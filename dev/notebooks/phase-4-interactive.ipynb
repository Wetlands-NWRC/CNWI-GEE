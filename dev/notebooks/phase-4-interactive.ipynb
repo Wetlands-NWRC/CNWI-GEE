{
 "cells": [
  {
   "cell_type": "code",
   "execution_count": 1,
   "metadata": {},
   "outputs": [],
   "source": [
    "%load_ext autoreload\n",
    "%autoreload 2\n",
    "\n",
    "import os\n",
    "import sys\n",
    "\n",
    "module_path = os.path.abspath(os.path.join(\"../code\"))\n",
    "sys.path.insert(0, module_path)"
   ]
  },
  {
   "cell_type": "code",
   "execution_count": 2,
   "metadata": {},
   "outputs": [],
   "source": [
    "from pprint import pprint\n",
    "\n",
    "import cnwi\n",
    "import ee\n",
    "import eelib\n",
    "import geemap\n",
    "import geopandas as gpd\n",
    "\n",
    "from pipelines import factories"
   ]
  },
  {
   "attachments": {},
   "cell_type": "markdown",
   "metadata": {},
   "source": [
    "# Set inputs up"
   ]
  },
  {
   "cell_type": "code",
   "execution_count": 3,
   "metadata": {},
   "outputs": [
    {
     "name": "stdout",
     "output_type": "stream",
     "text": [
      "{'geometry': {'coordinates': [-122.09316427210513, 54.62236146027936],\n",
      "              'type': 'Point'},\n",
      " 'id': '0',\n",
      " 'properties': {'land_cover': 'Bog'},\n",
      " 'type': 'Feature'}\n"
     ]
    }
   ],
   "source": [
    "gdf = gpd.read_file(\n",
    "    filename='../data/willistonA_no_floodplain.shp',\n",
    "    driver='ESRI Shapefile'\n",
    ")\n",
    "\n",
    "# re name CDesc to land_cover and drop all other non geometry columns\n",
    "gdf = gdf[['cDesc', 'geometry']]\n",
    "gdf.columns = ['land_cover', 'geometry']\n",
    "\n",
    "training_data = ee.FeatureCollection.from_dataframe(gdf)\n",
    "pprint(training_data.first().getInfo())\n",
    "\n",
    "viewport = ee.FeatureCollection.from_file(\n",
    "    filename=\"../results/phase02/000-data/viewport.shp\",\n",
    "    layer=None,\n",
    "    driver='ESRI Shapefile'\n",
    ").geometry()\n",
    "\n",
    "data_cube_collection = factories.DatacubeCollection(\"projects/fpca-336015/assets/williston-cba\")\n",
    "s1_system_ids = \"../data/systems.txt\""
   ]
  },
  {
   "cell_type": "code",
   "execution_count": 4,
   "metadata": {},
   "outputs": [],
   "source": [
    "datacube = cnwi.run_datacube_lsc(\n",
    "    viewport=viewport,\n",
    "    training_data=training_data,\n",
    "    system_txt = s1_system_ids,\n",
    "    dc_collection=data_cube_collection,\n",
    "    phase='Phase04'\n",
    ")\n",
    "\n",
    "datacube[0].logging()\n",
    "datacube[0].exportToCloud()"
   ]
  },
  {
   "cell_type": "code",
   "execution_count": null,
   "metadata": {},
   "outputs": [],
   "source": []
  }
 ],
 "metadata": {
  "kernelspec": {
   "display_name": "eerfpl-env",
   "language": "python",
   "name": "python3"
  },
  "language_info": {
   "codemirror_mode": {
    "name": "ipython",
    "version": 3
   },
   "file_extension": ".py",
   "mimetype": "text/x-python",
   "name": "python",
   "nbconvert_exporter": "python",
   "pygments_lexer": "ipython3",
   "version": "3.10.8 | packaged by conda-forge | (main, Nov 22 2022, 08:16:33) [MSC v.1929 64 bit (AMD64)]"
  },
  "orig_nbformat": 4,
  "vscode": {
   "interpreter": {
    "hash": "b35acdfd07afa3708d1f20e7b56ba5caae7c4b065d4c1d4fcfd7630ad4acab5c"
   }
  }
 },
 "nbformat": 4,
 "nbformat_minor": 2
}
