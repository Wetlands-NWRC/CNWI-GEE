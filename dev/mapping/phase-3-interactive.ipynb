{
 "cells": [
  {
   "cell_type": "code",
   "execution_count": null,
   "metadata": {},
   "outputs": [],
   "source": [
    "%load_ext autoreload\n",
    "%autoreload 2\n",
    "\n",
    "import os\n",
    "import sys\n",
    "\n",
    "module_path = os.path.abspath(os.path.join(\"../code\"))\n",
    "sys.path.insert(0, module_path)"
   ]
  },
  {
   "cell_type": "code",
   "execution_count": null,
   "metadata": {},
   "outputs": [],
   "source": [
    "from pprint import pprint\n",
    "\n",
    "import cnwi\n",
    "import ee\n",
    "import eelib\n",
    "import geemap\n",
    "import geopandas as gpd"
   ]
  },
  {
   "cell_type": "code",
   "execution_count": null,
   "metadata": {},
   "outputs": [
    {
     "name": "stdout",
     "output_type": "stream",
     "text": [
      "{'assets': {'benchmark': {'S1': ['COPERNICUS/S1_GRD/S1B_IW_GRDH_1SDV_20180517T142651_20180517T142716_010962_014115_CA58',\n",
      "                                 'COPERNICUS/S1_GRD/S1B_IW_GRDH_1SDV_20180728T142655_20180728T142720_012012_0161D6_96BF'],\n",
      "                          'S2': ['COPERNICUS/S2/20180519T191909_20180519T192621_T10UEF',\n",
      "                                 'COPERNICUS/S2/20180728T191909_20180728T192508_T10UEF']},\n",
      "            'datacube': {'S1': ['COPERNICUS/S1_GRD/S1B_IW_GRDH_1SDV_20180609T015452_20180609T015517_011290_014BA0_39FD',\n",
      "                                'COPERNICUS/S1_GRD/S1B_IW_GRDH_1SDV_20180715T015454_20180715T015519_011815_015BE0_0362',\n",
      "                                'COPERNICUS/S1_GRD/S1B_IW_GRDH_1SDV_20180913T015503_20180913T015528_012690_0176B4_78B3'],\n",
      "                         'S2': {'DC': 'projects/fpca-336015/assets/williston-cba'}},\n",
      "            'dem': 'NASA/NASADEM_HGT/001'},\n",
      " 'model_config': {'class_properties': 'land_cover_values',\n",
      "                  'number_of_trees': 1000,\n",
      "                  'predictors': None},\n",
      " 'phase': 'Phase03',\n",
      " 'training_data': {'driver': 'ESRI Shapefile',\n",
      "                   'file_name': '../data/willistonA_no_floodplain.shp'},\n",
      " 'viewport': {'driver': 'ESRI Shapefile',\n",
      "              'file_name': '../data/phase01_viewport.shp'}}\n"
     ]
    }
   ],
   "source": [
    "cfg = '../cfg/phase-03.yaml'\n",
    "CFG = cnwi.cfg(cfg)\n",
    "\n",
    "pprint(CFG)\n"
   ]
  },
  {
   "cell_type": "code",
   "execution_count": null,
   "metadata": {},
   "outputs": [
    {
     "data": {
      "text/html": [
       "<div>\n",
       "<style scoped>\n",
       "    .dataframe tbody tr th:only-of-type {\n",
       "        vertical-align: middle;\n",
       "    }\n",
       "\n",
       "    .dataframe tbody tr th {\n",
       "        vertical-align: top;\n",
       "    }\n",
       "\n",
       "    .dataframe thead th {\n",
       "        text-align: right;\n",
       "    }\n",
       "</style>\n",
       "<table border=\"1\" class=\"dataframe\">\n",
       "  <thead>\n",
       "    <tr style=\"text-align: right;\">\n",
       "      <th></th>\n",
       "      <th>CID</th>\n",
       "      <th>cDesc</th>\n",
       "      <th>clbl</th>\n",
       "      <th>nDesc</th>\n",
       "      <th>nlbl</th>\n",
       "      <th>rand_int</th>\n",
       "      <th>geometry</th>\n",
       "    </tr>\n",
       "  </thead>\n",
       "  <tbody>\n",
       "    <tr>\n",
       "      <th>0</th>\n",
       "      <td>1</td>\n",
       "      <td>Bog</td>\n",
       "      <td>1</td>\n",
       "      <td>Wetland</td>\n",
       "      <td>1</td>\n",
       "      <td>495</td>\n",
       "      <td>POINT (-122.09316 54.62236)</td>\n",
       "    </tr>\n",
       "    <tr>\n",
       "      <th>1</th>\n",
       "      <td>1</td>\n",
       "      <td>Bog</td>\n",
       "      <td>1</td>\n",
       "      <td>Wetland</td>\n",
       "      <td>1</td>\n",
       "      <td>93</td>\n",
       "      <td>POINT (-122.10945 54.60151)</td>\n",
       "    </tr>\n",
       "    <tr>\n",
       "      <th>2</th>\n",
       "      <td>1</td>\n",
       "      <td>Bog</td>\n",
       "      <td>1</td>\n",
       "      <td>Wetland</td>\n",
       "      <td>1</td>\n",
       "      <td>215</td>\n",
       "      <td>POINT (-122.19055 54.64809)</td>\n",
       "    </tr>\n",
       "    <tr>\n",
       "      <th>3</th>\n",
       "      <td>1</td>\n",
       "      <td>Bog</td>\n",
       "      <td>1</td>\n",
       "      <td>Wetland</td>\n",
       "      <td>1</td>\n",
       "      <td>131</td>\n",
       "      <td>POINT (-122.18915 54.65145)</td>\n",
       "    </tr>\n",
       "    <tr>\n",
       "      <th>4</th>\n",
       "      <td>1</td>\n",
       "      <td>Bog</td>\n",
       "      <td>1</td>\n",
       "      <td>Wetland</td>\n",
       "      <td>1</td>\n",
       "      <td>413</td>\n",
       "      <td>POINT (-122.11071 54.60590)</td>\n",
       "    </tr>\n",
       "  </tbody>\n",
       "</table>\n",
       "</div>"
      ],
      "text/plain": [
       "   CID cDesc  clbl    nDesc  nlbl  rand_int                     geometry\n",
       "0    1   Bog     1  Wetland     1       495  POINT (-122.09316 54.62236)\n",
       "1    1   Bog     1  Wetland     1        93  POINT (-122.10945 54.60151)\n",
       "2    1   Bog     1  Wetland     1       215  POINT (-122.19055 54.64809)\n",
       "3    1   Bog     1  Wetland     1       131  POINT (-122.18915 54.65145)\n",
       "4    1   Bog     1  Wetland     1       413  POINT (-122.11071 54.60590)"
      ]
     },
     "execution_count": 4,
     "metadata": {},
     "output_type": "execute_result"
    }
   ],
   "source": [
    "gdf = gpd.read_file(\n",
    "    filename=CFG['training_data']['file_name'],\n",
    "    driver='ESRI Shapefile'\n",
    ")\n",
    "gdf.head()"
   ]
  },
  {
   "cell_type": "code",
   "execution_count": null,
   "metadata": {},
   "outputs": [
    {
     "data": {
      "text/plain": [
       "array(['Bog', 'Fen', 'Marsh', 'Swamp', 'Upland', 'Water'], dtype=object)"
      ]
     },
     "execution_count": 5,
     "metadata": {},
     "output_type": "execute_result"
    }
   ],
   "source": [
    "# labels\n",
    "gdf['cDesc'].unique()"
   ]
  },
  {
   "cell_type": "code",
   "execution_count": null,
   "metadata": {},
   "outputs": [
    {
     "data": {
      "text/html": [
       "<div>\n",
       "<style scoped>\n",
       "    .dataframe tbody tr th:only-of-type {\n",
       "        vertical-align: middle;\n",
       "    }\n",
       "\n",
       "    .dataframe tbody tr th {\n",
       "        vertical-align: top;\n",
       "    }\n",
       "\n",
       "    .dataframe thead th {\n",
       "        text-align: right;\n",
       "    }\n",
       "</style>\n",
       "<table border=\"1\" class=\"dataframe\">\n",
       "  <thead>\n",
       "    <tr style=\"text-align: right;\">\n",
       "      <th></th>\n",
       "      <th>land_cover</th>\n",
       "      <th>geometry</th>\n",
       "    </tr>\n",
       "  </thead>\n",
       "  <tbody>\n",
       "    <tr>\n",
       "      <th>0</th>\n",
       "      <td>Bog</td>\n",
       "      <td>POINT (-122.09316 54.62236)</td>\n",
       "    </tr>\n",
       "    <tr>\n",
       "      <th>1</th>\n",
       "      <td>Bog</td>\n",
       "      <td>POINT (-122.10945 54.60151)</td>\n",
       "    </tr>\n",
       "    <tr>\n",
       "      <th>2</th>\n",
       "      <td>Bog</td>\n",
       "      <td>POINT (-122.19055 54.64809)</td>\n",
       "    </tr>\n",
       "    <tr>\n",
       "      <th>3</th>\n",
       "      <td>Bog</td>\n",
       "      <td>POINT (-122.18915 54.65145)</td>\n",
       "    </tr>\n",
       "    <tr>\n",
       "      <th>4</th>\n",
       "      <td>Bog</td>\n",
       "      <td>POINT (-122.11071 54.60590)</td>\n",
       "    </tr>\n",
       "  </tbody>\n",
       "</table>\n",
       "</div>"
      ],
      "text/plain": [
       "  land_cover                     geometry\n",
       "0        Bog  POINT (-122.09316 54.62236)\n",
       "1        Bog  POINT (-122.10945 54.60151)\n",
       "2        Bog  POINT (-122.19055 54.64809)\n",
       "3        Bog  POINT (-122.18915 54.65145)\n",
       "4        Bog  POINT (-122.11071 54.60590)"
      ]
     },
     "execution_count": 6,
     "metadata": {},
     "output_type": "execute_result"
    }
   ],
   "source": [
    "# re name CDesc to land_cover and drop all other non geometry columns\n",
    "gdf = gdf[['cDesc', 'geometry']]\n",
    "gdf.columns = ['land_cover', 'geometry']\n",
    "gdf.head()"
   ]
  },
  {
   "cell_type": "code",
   "execution_count": null,
   "metadata": {},
   "outputs": [
    {
     "name": "stdout",
     "output_type": "stream",
     "text": [
      "{'geometry': {'coordinates': [-122.09316427210513, 54.62236146027936],\n",
      "              'type': 'Point'},\n",
      " 'id': '0',\n",
      " 'properties': {'land_cover': 'Bog'},\n",
      " 'type': 'Feature'}\n"
     ]
    }
   ],
   "source": [
    "training_data = ee.FeatureCollection.from_dataframe(gdf)\n",
    "pprint(training_data.first().getInfo())"
   ]
  },
  {
   "cell_type": "code",
   "execution_count": null,
   "metadata": {},
   "outputs": [],
   "source": [
    "veiwport = ee.FeatureCollection.from_file(\n",
    "    filename=\"../data/phase01_viewport.shp\",\n",
    "    layer=None,\n",
    "    driver='ESRI Shapefile'\n",
    ")"
   ]
  },
  {
   "cell_type": "code",
   "execution_count": null,
   "metadata": {},
   "outputs": [],
   "source": [
    "benchmark = cnwi.benchmark(\n",
    "    cfg=CFG,\n",
    "    training_data=training_data,\n",
    "    viewport=veiwport\n",
    ")"
   ]
  },
  {
   "cell_type": "code",
   "execution_count": 17,
   "metadata": {},
   "outputs": [],
   "source": [
    "benchmark[0].logging()\n",
    "benchmark[0].exportToCloud()\n"
   ]
  },
  {
   "cell_type": "code",
   "execution_count": 18,
   "metadata": {},
   "outputs": [
    {
     "data": {
      "application/vnd.jupyter.widget-view+json": {
       "model_id": "606cf22d533e4cada7dd5a34a7a1340f",
       "version_major": 2,
       "version_minor": 0
      },
      "text/plain": [
       "Map(center=[55.031224020084, -122.80461982010391], controls=(WidgetControl(options=['position', 'transparent_b…"
      ]
     },
     "metadata": {},
     "output_type": "display_data"
    }
   ],
   "source": [
    "Map"
   ]
  },
  {
   "cell_type": "code",
   "execution_count": null,
   "metadata": {},
   "outputs": [],
   "source": []
  }
 ],
 "metadata": {
  "kernelspec": {
   "display_name": "eerfpl-env",
   "language": "python",
   "name": "python3"
  },
  "language_info": {
   "codemirror_mode": {
    "name": "ipython",
    "version": 3
   },
   "file_extension": ".py",
   "mimetype": "text/x-python",
   "name": "python",
   "nbconvert_exporter": "python",
   "pygments_lexer": "ipython3",
   "version": "3.10.8 | packaged by conda-forge | (main, Nov 22 2022, 08:16:33) [MSC v.1929 64 bit (AMD64)]"
  },
  "orig_nbformat": 4,
  "vscode": {
   "interpreter": {
    "hash": "b35acdfd07afa3708d1f20e7b56ba5caae7c4b065d4c1d4fcfd7630ad4acab5c"
   }
  }
 },
 "nbformat": 4,
 "nbformat_minor": 2
}
