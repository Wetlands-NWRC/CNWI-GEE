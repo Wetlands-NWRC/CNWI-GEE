{
 "cells": [
  {
   "cell_type": "code",
   "execution_count": 1,
   "metadata": {},
   "outputs": [],
   "source": [
    "import ee\n",
    "import eelib"
   ]
  },
  {
   "cell_type": "code",
   "execution_count": 2,
   "metadata": {},
   "outputs": [],
   "source": [
    "bbox = ee.FeatureCollection.from_file(\n",
    "    filename=\"../000-training-data/training_data.gdb\",\n",
    "    layer='training_points',\n",
    "    driver='FileGDB'\n",
    ").geometry().bounds()\n"
   ]
  },
  {
   "cell_type": "code",
   "execution_count": 3,
   "metadata": {},
   "outputs": [
    {
     "name": "stdout",
     "output_type": "stream",
     "text": [
      "Help on method to_file in module eelib.eefactory:\n",
      "\n",
      "to_file(filename: str, driver: str = None) -> None method of ee.featurecollection.FeatureCollection instance\n",
      "\n"
     ]
    }
   ],
   "source": [
    "col = ee.FeatureCollection(bbox)\n",
    "help(col.to_file)"
   ]
  },
  {
   "cell_type": "code",
   "execution_count": 4,
   "metadata": {},
   "outputs": [],
   "source": [
    "col.to_file(\n",
    "    filename = \"../000-training-data/phase01_viewport.shp\",\n",
    "    driver='ESRI Shapefile'\n",
    ")"
   ]
  },
  {
   "cell_type": "code",
   "execution_count": null,
   "metadata": {},
   "outputs": [],
   "source": []
  }
 ],
 "metadata": {
  "kernelspec": {
   "display_name": "eerfpl-exps",
   "language": "python",
   "name": "python3"
  },
  "language_info": {
   "codemirror_mode": {
    "name": "ipython",
    "version": 3
   },
   "file_extension": ".py",
   "mimetype": "text/x-python",
   "name": "python",
   "nbconvert_exporter": "python",
   "pygments_lexer": "ipython3",
   "version": "3.10.8"
  },
  "orig_nbformat": 4,
  "vscode": {
   "interpreter": {
    "hash": "6c16a566310f81b13ef96ec5acff17a8ab8de3be468d93cf894883e7dec466e8"
   }
  }
 },
 "nbformat": 4,
 "nbformat_minor": 2
}
