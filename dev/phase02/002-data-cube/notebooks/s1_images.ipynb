{
 "cells": [
  {
   "cell_type": "code",
   "execution_count": 1,
   "metadata": {},
   "outputs": [],
   "source": [
    "from __future__ import annotations\n",
    "\n",
    "from datetime import  datetime\n",
    "import ee\n",
    "import geemap\n",
    "from eelib import collections, eefuncs, bands"
   ]
  },
  {
   "cell_type": "code",
   "execution_count": 2,
   "metadata": {},
   "outputs": [],
   "source": [
    "from dataclasses import dataclass, InitVar\n",
    "\n",
    "@dataclass\n",
    "class WillisCBAConfig:\n",
    "    ASSET_ID: str = \"\"\n",
    "    target_year: int = 2018\n",
    "    doys: InitVar[tuple] = 135, 181, 182, 243, 244, 300\n",
    "    band_prefix = {'spring': 'a_spri_b.*', 'summer': 'b_summ_b.*', \n",
    "                   'fall': 'c_fall_b.*'}\n",
    "    def __post_init__(self, doys):\n",
    "        def to_datetime(doys: tuple[str]):\n",
    "            doys = sorted(doys)\n",
    "            # julain days parse to YYYY MM dd\n",
    "            def to_dt(doy: int) -> str:\n",
    "                doy = datetime.strptime(f'{self.target_year}{doy}', '%Y%j')\n",
    "                return doy.strftime(\"%Y-%m-%d\")\n",
    "\n",
    "            return tuple(map(to_dt, doys))\n",
    "        \n",
    "        dates = to_datetime(doys)\n",
    "        \n",
    "        self.seasons = {\n",
    "            'spring': dates[:2],\n",
    "            'summer': dates[2:4],\n",
    "            'fall': dates[4:]\n",
    "        }\n",
    "        \n",
    "        self.bands = [(b.name, b.value) for b in bands.WillistonCBA]\n"
   ]
  },
  {
   "cell_type": "code",
   "execution_count": 3,
   "metadata": {},
   "outputs": [],
   "source": [
    "aoi = ee.FeatureCollection('users/ryangilberthamilton/BC/williston/williston_sub_a_2019')\n",
    "dc = ee.ImageCollection('projects/fpca-336015/assets/williston-cba').\\\n",
    "    filterBounds(aoi)\n",
    "\n",
    "img = dc.mosaic().select([str(_.name) for _ in bands.WillistonCBA], \n",
    "                         [str(_.value) for _ in bands.WillistonCBA])\n",
    "\n",
    "\n"
   ]
  },
  {
   "cell_type": "code",
   "execution_count": 11,
   "metadata": {},
   "outputs": [
    {
     "data": {
      "text/plain": [
       "['B1', 'B2', 'B3', 'B4', 'B5', 'B6', 'B7', 'B8', 'B8A', 'B11', 'B12']"
      ]
     },
     "execution_count": 11,
     "metadata": {},
     "output_type": "execute_result"
    }
   ],
   "source": [
    "spring = img.select('a_spri_b.*')\n",
    "[str(_.name) for _ in bands.S2SR]\n",
    "spring = spring.select(spring.bandNames(), [str(_.name) for _ in bands.S2SR])\n",
    "\n",
    "spring.bandNames().getInfo()"
   ]
  },
  {
   "cell_type": "code",
   "execution_count": null,
   "metadata": {},
   "outputs": [],
   "source": [
    "TARGET_YEAR = '2018'\n",
    "\n",
    "# set date ranges\n",
    "doys = 135, 181, 182, 243, 244, 300 \n",
    "\n",
    "def to_datetime(doys: tuple[str]):\n",
    "    \n",
    "    # julain days parse to YYYY MM dd\n",
    "    def to_dt(doy: int) -> str:\n",
    "        doy = datetime.strptime(f'{TARGET_YEAR}{doy}', '%Y%j')\n",
    "        return doy.strftime(\"%Y-%m-%d\")\n",
    "    \n",
    "    return tuple(map(to_dt, doys))\n",
    "dates = to_datetime(doys)\n",
    "\n",
    "spring, summer, fall = dates[:2], dates[2:4], dates[4:]\n",
    "print(f'Spring:{spring}')\n",
    "print(f'Summer:{summer}')\n",
    "print(f'Fall:{fall}')\n",
    "    \n"
   ]
  },
  {
   "cell_type": "code",
   "execution_count": null,
   "metadata": {},
   "outputs": [],
   "source": [
    "viewport = collections.FeatureCollection.from_file(\n",
    "    filename=\"../../000-data/intersection_64.shp\",\n",
    "    driver='ESRI Shapefile'\n",
    ")\n",
    "\n",
    "base = collections.S1Collection().\\\n",
    "    filterBounds(viewport).\\\n",
    "    filter('relativeOrbitNumber_start == 64').map(eefuncs.insert_groupid)\n",
    "\n",
    "seasons = {\n",
    "    'spring': {'collection': base.filterDate(*spring), 'date': spring},\n",
    "    'summer': {'collection': base.filterDate(*summer),'date': summer},\n",
    "    'fall': {'collection': base.filterDate(*fall),'date': fall}\n",
    "}\n"
   ]
  },
  {
   "cell_type": "code",
   "execution_count": null,
   "metadata": {},
   "outputs": [],
   "source": [
    "# set the mid date for each season and difference the days\n",
    "for season, obj in seasons.items():\n",
    "    dates = (ee.Date(_) for _ in obj.get('date'))\n",
    "    mid_point = eefuncs.get_mid_point(dates)\n",
    "    \n",
    "    # update the collection inplace\n",
    "    trg =  eefuncs.days_from_mid(\n",
    "        collection=obj.get('collection'),\n",
    "        midPoint = mid_point\n",
    "    )\n",
    "    \n",
    "    trg = trg.map(lambda x: x.set('season', season))\n",
    "    \n",
    "    print(f\"{season}: Days from Mid\")\n",
    "    print(trg.aggregate_array('dfm').distinct().sort().getInfo())\n",
    "    print(trg.size().getInfo())\n",
    "\n",
    "    obj['collection'] = trg"
   ]
  },
  {
   "cell_type": "code",
   "execution_count": null,
   "metadata": {},
   "outputs": [],
   "source": [
    "# query the collections based on days\n",
    "\n",
    "# Full coverage = dfms == [2, 16, 9]\n",
    "\n",
    "spring_images = seasons.get('spring').get('collection').filter('dfm == 2')\n",
    "summer_images = seasons.get('summer').get('collection').filter('dfm == 16')\n",
    "fall_images = seasons.get('fall').get('collection').filter('dfm == 15')\n"
   ]
  },
  {
   "cell_type": "code",
   "execution_count": null,
   "metadata": {},
   "outputs": [],
   "source": [
    "print(spring_images.aggregate_array('groupid').getInfo())\n",
    "print(summer_images.aggregate_array('groupid').getInfo())\n",
    "print(fall_images.aggregate_array('groupid').getInfo())"
   ]
  },
  {
   "cell_type": "code",
   "execution_count": null,
   "metadata": {},
   "outputs": [],
   "source": [
    "col_list = [spring_images.toList(spring_images.size()),\n",
    "            summer_images.toList(summer_images.size()),\n",
    "            fall_images.toList(fall_images.size())]\n",
    "\n"
   ]
  },
  {
   "cell_type": "code",
   "execution_count": null,
   "metadata": {},
   "outputs": [],
   "source": [
    "Map = geemap.Map()\n",
    "\n",
    "Map"
   ]
  },
  {
   "cell_type": "code",
   "execution_count": null,
   "metadata": {},
   "outputs": [],
   "source": [
    "vis = {'bands': ['VV'], 'min': -25, 'max': 10}\n",
    "\n",
    "Map.addLayer(spring_images, vis, 'Spring')\n",
    "Map.addLayer(summer_images, vis, 'Summer')\n",
    "Map.addLayer(fall_images, vis, 'Fall')\n",
    "Map.addLayer(viewport, {}, 'View Port')\n",
    "Map.addLayerControl()\n"
   ]
  },
  {
   "cell_type": "code",
   "execution_count": null,
   "metadata": {},
   "outputs": [],
   "source": []
  }
 ],
 "metadata": {
  "kernelspec": {
   "display_name": "eerfpl-env",
   "language": "python",
   "name": "python3"
  },
  "language_info": {
   "codemirror_mode": {
    "name": "ipython",
    "version": 3
   },
   "file_extension": ".py",
   "mimetype": "text/x-python",
   "name": "python",
   "nbconvert_exporter": "python",
   "pygments_lexer": "ipython3",
   "version": "3.10.8 | packaged by conda-forge | (main, Nov 22 2022, 08:16:33) [MSC v.1929 64 bit (AMD64)]"
  },
  "orig_nbformat": 4,
  "vscode": {
   "interpreter": {
    "hash": "c8f4b1d470280b34a6cedff055f3b130e424525e4b486d715cc3d1ad629e85f3"
   }
  }
 },
 "nbformat": 4,
 "nbformat_minor": 2
}
