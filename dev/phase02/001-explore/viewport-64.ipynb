{
 "cells": [
  {
   "cell_type": "code",
   "execution_count": 14,
   "id": "f4665974",
   "metadata": {},
   "outputs": [],
   "source": [
    "import ee\n",
    "import geemap\n",
    "\n",
    "from eelib import eefactory, eefuncs\n",
    "from pipelines import plcfgs, factories"
   ]
  },
  {
   "cell_type": "code",
   "execution_count": 15,
   "id": "e3e3b042",
   "metadata": {},
   "outputs": [],
   "source": [
    "viewport = ee.FeatureCollection.from_file(\n",
    "    filename = \"../000-data/intersection_64.shp\",\n",
    ")"
   ]
  },
  {
   "cell_type": "code",
   "execution_count": 10,
   "id": "7274619d",
   "metadata": {},
   "outputs": [
    {
     "data": {
      "application/vnd.jupyter.widget-view+json": {
       "model_id": "c1a51beaec20407db101ff7261c4579c",
       "version_major": 2,
       "version_minor": 0
      },
      "text/plain": [
       "Map(center=[20, 0], controls=(WidgetControl(options=['position', 'transparent_bg'], widget=HBox(children=(Togg…"
      ]
     },
     "metadata": {},
     "output_type": "display_data"
    }
   ],
   "source": [
    "Map = geemap.Map()\n",
    "Map"
   ]
  },
  {
   "cell_type": "code",
   "execution_count": 17,
   "id": "80b4c486",
   "metadata": {},
   "outputs": [],
   "source": [
    "CFG = plcfgs.DataCubeCfg()\n",
    "datacube = factories.DatacubeCollection(\n",
    "    arg= 'projects/fpca-336015/assets/williston-cba'\n",
    ")\n",
    "\n",
    "geometry = datacube.geometry()\n",
    "\n",
    "Map.centerObject(geometry, 6)\n",
    "Map.addLayer(viewport, {}, 'Viewport')\n",
    "Map.addLayer(geometry.dissolve(), {}, 'DC Geometry')\n",
    "\n",
    "Map.addLayerControl()\n",
    "\n"
   ]
  },
  {
   "cell_type": "code",
   "execution_count": 25,
   "id": "beeabac1",
   "metadata": {},
   "outputs": [],
   "source": [
    "# Sentinel - 1 Image Selection\n",
    "\n",
    "targets = []\n",
    "\n",
    "for season, cfg in CFG.seasons.items():\n",
    "    dates = (cfg.get('start'), cfg.get('end'))\n",
    "    base = ee.ImageCollection.s1Collection().\\\n",
    "        filter('relativeOrbitNumber_start == 64').\\\n",
    "        filterDate(*dates).\\\n",
    "        filterBounds(viewport)\n",
    "    target_dates = [ee.Date(_) for _ in dates]\n",
    "    \n",
    "    # calc mid point\n",
    "    mid_point = eefuncs.get_mid_point(target_dates)\n",
    "    \n",
    "    # difference the images date against the mid point\n",
    "    target_collection = eefuncs.days_from_mid(\n",
    "        collection=base,\n",
    "        midPoint = mid_point\n",
    "    )\n",
    "    def setprops(element):\n",
    "        return element.set('datestr', element.date().format('YYYY-MM-dd'),\n",
    "                           'season', season)\n",
    "    # inseart season \n",
    "    target_list = target_collection.filterDate(*dates)\\\n",
    "        .map(setprops).map(eefuncs.insert_groupid)\\\n",
    "        .toList(target_collection.size())\n",
    "    target_list = target_list.map(lambda x: ee.Image(x))\n",
    "    targets.append(target_list)\n",
    "ee_list = ee.List(targets).flatten()\n"
   ]
  },
  {
   "cell_type": "code",
   "execution_count": 26,
   "id": "48f99f42",
   "metadata": {},
   "outputs": [
    {
     "name": "stdout",
     "output_type": "stream",
     "text": [
      "Season: \n",
      "dfm, len\n",
      "21, 3\n",
      "9, 3\n",
      "2, 3\n",
      "14, 3\n",
      "Season: \n",
      "dfm, len\n",
      "28, 3\n",
      "16, 3\n",
      "4, 2\n",
      "Season: \n",
      "dfm, len\n",
      "15, 3\n"
     ]
    }
   ],
   "source": [
    "col = ee.ImageCollection(ee_list)\n",
    "for season in CFG.seasons.keys():\n",
    "    base = col.filter(f'season == \"{season}\"')\n",
    "    \n",
    "    dfms = base.aggregate_array('dfm').distinct().getInfo()\n",
    "    print(\"Season: \")\n",
    "    print(\"dfm, len\")\n",
    "    for dfm in dfms:\n",
    "        query = base.filter(f'dfm == {dfm}')\n",
    "        print(f\"{dfm}, {query.size().getInfo()}\")"
   ]
  },
  {
   "cell_type": "code",
   "execution_count": 27,
   "id": "5da36ea9",
   "metadata": {},
   "outputs": [
    {
     "data": {
      "text/plain": [
       "['64_-122.36',\n",
       " '64_-122.83',\n",
       " '64_-123.37',\n",
       " '64_-122.47',\n",
       " '64_-122.94',\n",
       " '64_-123.33']"
      ]
     },
     "execution_count": 27,
     "metadata": {},
     "output_type": "execute_result"
    }
   ],
   "source": [
    "groupids = col.aggregate_array('groupid').distinct().getInfo()\n",
    "groupids"
   ]
  },
  {
   "cell_type": "code",
   "execution_count": null,
   "id": "fda23970",
   "metadata": {},
   "outputs": [],
   "source": [
    " "
   ]
  }
 ],
 "metadata": {
  "kernelspec": {
   "display_name": "eerfpl-exps",
   "language": "python",
   "name": "python3"
  },
  "language_info": {
   "codemirror_mode": {
    "name": "ipython",
    "version": 3
   },
   "file_extension": ".py",
   "mimetype": "text/x-python",
   "name": "python",
   "nbconvert_exporter": "python",
   "pygments_lexer": "ipython3",
   "version": "3.10.8"
  },
  "vscode": {
   "interpreter": {
    "hash": "6c16a566310f81b13ef96ec5acff17a8ab8de3be468d93cf894883e7dec466e8"
   }
  }
 },
 "nbformat": 4,
 "nbformat_minor": 5
}
