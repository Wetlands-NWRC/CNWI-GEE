{
 "cells": [
  {
   "cell_type": "code",
   "execution_count": 1,
   "metadata": {},
   "outputs": [],
   "source": [
    "import ee\n",
    "import geemap\n",
    "\n",
    "from eelib import eefactory, eefuncs\n",
    "from pipelines import plcfgs, factories"
   ]
  },
  {
   "cell_type": "code",
   "execution_count": 2,
   "metadata": {},
   "outputs": [],
   "source": [
    "viewport = ee.FeatureCollection.from_file(\n",
    "    filename = \"../000-data/intersection_64.shp\",\n",
    ")"
   ]
  },
  {
   "cell_type": "code",
   "execution_count": 3,
   "metadata": {},
   "outputs": [
    {
     "data": {
      "text/plain": [
       "['S1B_IW_GRDH_1SDV_20180609T015452_20180609T015517_011290_014BA0_39FD',\n",
       " 'S1B_IW_GRDH_1SDV_20180609T015517_20180609T015542_011290_014BA0_2658',\n",
       " 'S1B_IW_GRDH_1SDV_20180609T015542_20180609T015616_011290_014BA0_EE30',\n",
       " 'S1B_IW_GRDH_1SDV_20180715T015454_20180715T015519_011815_015BE0_0362',\n",
       " 'S1B_IW_GRDH_1SDV_20180715T015519_20180715T015544_011815_015BE0_D8D7',\n",
       " 'S1B_IW_GRDH_1SDV_20180715T015544_20180715T015618_011815_015BE0_8287',\n",
       " 'S1B_IW_GRDH_1SDV_20180913T015503_20180913T015528_012690_0176B4_78B3',\n",
       " 'S1B_IW_GRDH_1SDV_20180913T015528_20180913T015553_012690_0176B4_0EB4',\n",
       " 'S1B_IW_GRDH_1SDV_20180913T015553_20180913T015613_012690_0176B4_EB44']"
      ]
     },
     "execution_count": 3,
     "metadata": {},
     "output_type": "execute_result"
    }
   ],
   "source": [
    "# load txt file cast to image\n",
    "\n",
    "with open(\"./systems.txt\", 'r') as file:\n",
    "    ids = [line.strip() for line in file.readlines()]\n",
    "ids"
   ]
  },
  {
   "cell_type": "code",
   "execution_count": 4,
   "metadata": {},
   "outputs": [
    {
     "data": {
      "text/plain": [
       "[<ee.image.Image at 0x1a4b3f41660>,\n",
       " <ee.image.Image at 0x1a4aecf6a10>,\n",
       " <ee.image.Image at 0x1a4aecf6c50>,\n",
       " <ee.image.Image at 0x1a4aecf6f20>,\n",
       " <ee.image.Image at 0x1a4aecf5390>,\n",
       " <ee.image.Image at 0x1a4aecf60e0>,\n",
       " <ee.image.Image at 0x1a4aecf72e0>,\n",
       " <ee.image.Image at 0x1a4aecf6800>,\n",
       " <ee.image.Image at 0x1a4aecf65c0>]"
      ]
     },
     "execution_count": 4,
     "metadata": {},
     "output_type": "execute_result"
    }
   ],
   "source": [
    "ee_images = [ee.Image(f'COPERNICUS/S1_GRD/{_}') for _ in ids]\n",
    "ee_images"
   ]
  },
  {
   "cell_type": "code",
   "execution_count": 5,
   "metadata": {},
   "outputs": [],
   "source": [
    "img_col = ee.ImageCollection(ee_images).map(lambda x: x.set('dateFmt', x.date().format('YYYY-MM-dd')))\n",
    "dates = img_col.aggregate_array('dateFmt').distinct()\n",
    "dates_list = dates.getInfo()\n",
    "# dates_list\n",
    "filterd = {idx: img_col.filter(f'dateFmt == \"{date}\"').geometry().dissolve() for idx, date\n",
    "           in enumerate(dates_list)}\n"
   ]
  },
  {
   "cell_type": "code",
   "execution_count": 6,
   "metadata": {},
   "outputs": [],
   "source": [
    "s1_viewport = filterd.get(0).intersection(filterd.get(1)).intersection(filterd.get(2))\n"
   ]
  },
  {
   "cell_type": "code",
   "execution_count": 7,
   "metadata": {},
   "outputs": [],
   "source": [
    "datacube = factories.DatacubeCollection(\n",
    "    arg=\"projects/fpca-336015/assets/williston-cba\"\n",
    ").filterBounds(s1_viewport).geometry().intersection(s1_viewport)"
   ]
  },
  {
   "cell_type": "code",
   "execution_count": 8,
   "metadata": {},
   "outputs": [
    {
     "data": {
      "application/vnd.jupyter.widget-view+json": {
       "model_id": "7a37b735769344e98b3a82ae4a64aee0",
       "version_major": 2,
       "version_minor": 0
      },
      "text/plain": [
       "Map(center=[20, 0], controls=(WidgetControl(options=['position', 'transparent_bg'], widget=HBox(children=(Togg…"
      ]
     },
     "metadata": {},
     "output_type": "display_data"
    }
   ],
   "source": [
    "Map = geemap.Map()\n",
    "\n",
    "\n",
    "Map\n",
    "\n"
   ]
  },
  {
   "cell_type": "code",
   "execution_count": 9,
   "metadata": {},
   "outputs": [],
   "source": [
    "Map.centerObject(viewport, 6)\n",
    "Map.addLayer(datacube)\n",
    "Map.addLayerControl()"
   ]
  },
  {
   "cell_type": "code",
   "execution_count": 10,
   "metadata": {},
   "outputs": [],
   "source": [
    "viewport_fc = ee.FeatureCollection(datacube).to_file(\n",
    "    filename=\"../000-data/viewport.shp\"\n",
    ")"
   ]
  },
  {
   "cell_type": "code",
   "execution_count": null,
   "metadata": {},
   "outputs": [],
   "source": []
  }
 ],
 "metadata": {
  "kernelspec": {
   "display_name": "eerfpl-exps",
   "language": "python",
   "name": "python3"
  },
  "language_info": {
   "codemirror_mode": {
    "name": "ipython",
    "version": 3
   },
   "file_extension": ".py",
   "mimetype": "text/x-python",
   "name": "python",
   "nbconvert_exporter": "python",
   "pygments_lexer": "ipython3",
   "version": "3.10.8 | packaged by conda-forge | (main, Nov 22 2022, 08:16:33) [MSC v.1929 64 bit (AMD64)]"
  },
  "orig_nbformat": 4,
  "vscode": {
   "interpreter": {
    "hash": "6c16a566310f81b13ef96ec5acff17a8ab8de3be468d93cf894883e7dec466e8"
   }
  }
 },
 "nbformat": 4,
 "nbformat_minor": 2
}
