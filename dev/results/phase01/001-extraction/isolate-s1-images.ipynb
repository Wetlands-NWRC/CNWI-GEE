{
 "cells": [
  {
   "cell_type": "code",
   "execution_count": 2,
   "metadata": {},
   "outputs": [],
   "source": [
    "import ee\n",
    "import eelib\n",
    "from eelib import eefuncs"
   ]
  },
  {
   "cell_type": "code",
   "execution_count": 7,
   "metadata": {},
   "outputs": [
    {
     "data": {
      "text/plain": [
       "['COPERNICUS/S1_GRD/S1B_IW_GRDH_1SDV_20180609T015452_20180609T015517_011290_014BA0_39FD',\n",
       " 'COPERNICUS/S1_GRD/S1B_IW_GRDH_1SDV_20180609T015517_20180609T015542_011290_014BA0_2658',\n",
       " 'COPERNICUS/S1_GRD/S1B_IW_GRDH_1SDV_20180609T015542_20180609T015616_011290_014BA0_EE30',\n",
       " 'COPERNICUS/S1_GRD/S1B_IW_GRDH_1SDV_20180715T015454_20180715T015519_011815_015BE0_0362',\n",
       " 'COPERNICUS/S1_GRD/S1B_IW_GRDH_1SDV_20180715T015519_20180715T015544_011815_015BE0_D8D7',\n",
       " 'COPERNICUS/S1_GRD/S1B_IW_GRDH_1SDV_20180715T015544_20180715T015618_011815_015BE0_8287',\n",
       " 'COPERNICUS/S1_GRD/S1B_IW_GRDH_1SDV_20180913T015503_20180913T015528_012690_0176B4_78B3',\n",
       " 'COPERNICUS/S1_GRD/S1B_IW_GRDH_1SDV_20180913T015528_20180913T015553_012690_0176B4_0EB4',\n",
       " 'COPERNICUS/S1_GRD/S1B_IW_GRDH_1SDV_20180913T015553_20180913T015613_012690_0176B4_EB44']"
      ]
     },
     "execution_count": 7,
     "metadata": {},
     "output_type": "execute_result"
    }
   ],
   "source": [
    "with open(\"./systems.txt\", 'r') as file:\n",
    "    lines = [f'COPERNICUS/S1_GRD/{line.strip()}' for line in file.readlines()]\n",
    "lines"
   ]
  },
  {
   "cell_type": "code",
   "execution_count": 5,
   "metadata": {},
   "outputs": [],
   "source": [
    "# load in the view port\n",
    "viewport = ee.FeatureCollection.from_file(\n",
    "    filename = \"../000-training-data/phase01_viewport.shp\"\n",
    ")\n"
   ]
  },
  {
   "cell_type": "code",
   "execution_count": 8,
   "metadata": {},
   "outputs": [
    {
     "data": {
      "text/plain": [
       "{'type': 'Image',\n",
       " 'bands': [{'id': 'VV',\n",
       "   'data_type': {'type': 'PixelType', 'precision': 'double'},\n",
       "   'dimensions': [29346, 21509],\n",
       "   'crs': 'EPSG:32610',\n",
       "   'crs_transform': [10, 0, 392104.03939967044, 0, -10, 6081905.951840467]},\n",
       "  {'id': 'VH',\n",
       "   'data_type': {'type': 'PixelType', 'precision': 'double'},\n",
       "   'dimensions': [29346, 21509],\n",
       "   'crs': 'EPSG:32610',\n",
       "   'crs_transform': [10, 0, 392104.03939967044, 0, -10, 6081905.951840467]},\n",
       "  {'id': 'angle',\n",
       "   'data_type': {'type': 'PixelType', 'precision': 'float'},\n",
       "   'dimensions': [21, 10],\n",
       "   'crs': 'EPSG:32610',\n",
       "   'crs_transform': [12795.917943591485,\n",
       "    -4053.6348840351566,\n",
       "    427901.2435339657,\n",
       "    2421.3507291469723,\n",
       "    19935.796453477815,\n",
       "    5867346.6021165205]}],\n",
       " 'id': 'COPERNICUS/S1_GRD/S1B_IW_GRDH_1SDV_20180609T015452_20180609T015517_011290_014BA0_39FD',\n",
       " 'version': 1672254935653206,\n",
       " 'properties': {'GRD_Post_Processing_start': 1528535783570,\n",
       "  'sliceNumber': 17,\n",
       "  'GRD_Post_Processing_facility_name': 'Copernicus S1 Core Ground Segment - DPA',\n",
       "  'resolution': 'H',\n",
       "  'SLC_Processing_facility_name': 'Copernicus S1 Core Ground Segment - DPA',\n",
       "  'system:footprint': {'type': 'LinearRing',\n",
       "   'coordinates': [[-121.11453075886217, 53.277293501868655],\n",
       "    [-120.43153968581044, 53.34160389892569],\n",
       "    [-120.29047894580303, 53.35440137805017],\n",
       "    [-120.29489257900265, 53.46284358165545],\n",
       "    [-120.40604126593058, 53.92170542221583],\n",
       "    [-120.50933716042304, 54.30014237219188],\n",
       "    [-120.61443979402759, 54.678488397781265],\n",
       "    [-120.6693375869094, 54.84999283369592],\n",
       "    [-120.7145613310229, 54.84606955627179],\n",
       "    [-122.59374285537643, 54.667255910429255],\n",
       "    [-124.50395834576082, 54.453685038876344],\n",
       "    [-124.50267470381188, 54.44779064761939],\n",
       "    [-124.3641914495066, 54.04008879914265],\n",
       "    [-124.32554939288548, 53.93320675822747],\n",
       "    [-124.12986947023268, 53.38643172718055],\n",
       "    [-124.06771612855, 53.20982197319873],\n",
       "    [-124.0072019303812, 53.04287014812268],\n",
       "    [-123.9734597585434, 52.96315183453372],\n",
       "    [-123.9579538582571, 52.96503803722637],\n",
       "    [-121.9463111124959, 53.19342503525069],\n",
       "    [-121.11453075886217, 53.277293501868655]]},\n",
       "  'familyName': 'SENTINEL-1',\n",
       "  'segmentStartTime': 1528508888810,\n",
       "  'missionDataTakeID': 84896,\n",
       "  'GRD_Post_Processing_facility_country': 'Germany',\n",
       "  'nssdcIdentifier': '2016-025A',\n",
       "  'productClass': 'S',\n",
       "  'phaseIdentifier': 1,\n",
       "  'orbitProperties_pass': 'ASCENDING',\n",
       "  'relativeOrbitNumber_stop': 64,\n",
       "  'SLC_Processing_facility_site': 'DLR-Oberpfaffenhofen',\n",
       "  'GRD_Post_Processing_stop': 1528536456000,\n",
       "  'system:time_start': 1528509292000,\n",
       "  'instrumentMode': 'IW',\n",
       "  'totalSlices': 19,\n",
       "  'SLC_Processing_stop': 1528536230000,\n",
       "  'startTimeANX': 867317.4,\n",
       "  'SLC_Processing_start': 1528535899000,\n",
       "  'resolution_meters': 10,\n",
       "  'instrumentSwath': 'IW',\n",
       "  'relativeOrbitNumber_start': 64,\n",
       "  'productTimelinessCategory': 'Fast-24h',\n",
       "  'SLC_Processing_software_name': 'Sentinel-1 IPF',\n",
       "  'sliceProductFlag': 'true',\n",
       "  'S1TBX_Calibration_vers': '6.0.4',\n",
       "  'orbitNumber_start': 11290,\n",
       "  'GRD_Post_Processing_facility_site': 'DLR-Oberpfaffenhofen',\n",
       "  'instrument': 'Synthetic Aperture Radar',\n",
       "  'GRD_Post_Processing_software_name': 'Sentinel-1 IPF',\n",
       "  'platform_number': 'B',\n",
       "  'S1TBX_SAR_Processing_vers': '6.0.4',\n",
       "  'productType': 'GRD',\n",
       "  'orbitProperties_ascendingNodeTime': 1528508425200,\n",
       "  'stopTimeANX': 892315.4,\n",
       "  'productComposition': 'Slice',\n",
       "  'productClassDescription': 'SAR Standard L1 Product',\n",
       "  'GRD_Post_Processing_software_version': '002.90',\n",
       "  'SLC_Processing_software_version': '002.90',\n",
       "  'orbitNumber_stop': 11290,\n",
       "  'instrumentConfigurationID': 1,\n",
       "  'system:asset_size': 4040075601,\n",
       "  'cycleNumber': 71,\n",
       "  'system:index': 'S1B_IW_GRDH_1SDV_20180609T015452_20180609T015517_011290_014BA0_39FD',\n",
       "  'SNAP_Graph_Processing_Framework_GPF_vers': '6.0.4',\n",
       "  'SLC_Processing_facility_org': 'ESA',\n",
       "  'SLC_Processing_facility_country': 'Germany',\n",
       "  'GRD_Post_Processing_facility_org': 'ESA',\n",
       "  'transmitterReceiverPolarisation': ['VV', 'VH']}}"
      ]
     },
     "execution_count": 8,
     "metadata": {},
     "output_type": "execute_result"
    }
   ],
   "source": [
    "img_collection = ee.ImageCollection([ee.Image(_) for _ in lines])\n",
    "img_collection.first().getInfo()"
   ]
  },
  {
   "cell_type": "code",
   "execution_count": 11,
   "metadata": {},
   "outputs": [],
   "source": [
    "s1_idx = img_collection.filterBounds(viewport).aggregate_array('system:index').\\\n",
    "    getInfo()"
   ]
  },
  {
   "cell_type": "code",
   "execution_count": 12,
   "metadata": {},
   "outputs": [
    {
     "data": {
      "text/plain": [
       "['COPERNICUS/S1_GRD/S1B_IW_GRDH_1SDV_20180609T015452_20180609T015517_011290_014BA0_39FD',\n",
       " 'COPERNICUS/S1_GRD/S1B_IW_GRDH_1SDV_20180715T015454_20180715T015519_011815_015BE0_0362',\n",
       " 'COPERNICUS/S1_GRD/S1B_IW_GRDH_1SDV_20180913T015503_20180913T015528_012690_0176B4_78B3']"
      ]
     },
     "execution_count": 12,
     "metadata": {},
     "output_type": "execute_result"
    }
   ],
   "source": [
    "[f'COPERNICUS/S1_GRD/{line}' for line in s1_idx]\n"
   ]
  },
  {
   "cell_type": "code",
   "execution_count": null,
   "metadata": {},
   "outputs": [],
   "source": []
  }
 ],
 "metadata": {
  "kernelspec": {
   "display_name": "eerfpl-exps",
   "language": "python",
   "name": "python3"
  },
  "language_info": {
   "codemirror_mode": {
    "name": "ipython",
    "version": 3
   },
   "file_extension": ".py",
   "mimetype": "text/x-python",
   "name": "python",
   "nbconvert_exporter": "python",
   "pygments_lexer": "ipython3",
   "version": "3.10.8"
  },
  "orig_nbformat": 4,
  "vscode": {
   "interpreter": {
    "hash": "6c16a566310f81b13ef96ec5acff17a8ab8de3be468d93cf894883e7dec466e8"
   }
  }
 },
 "nbformat": 4,
 "nbformat_minor": 2
}
