{
 "cells": [
  {
   "cell_type": "code",
   "execution_count": 1,
   "metadata": {},
   "outputs": [],
   "source": [
    "from typing import List\n",
    "import ee\n",
    "import eelib\n",
    "from eelib import eefuncs, sf\n",
    "from pipelines import plcfgs, eerfpl"
   ]
  },
  {
   "cell_type": "code",
   "execution_count": 2,
   "metadata": {},
   "outputs": [],
   "source": [
    "cfg = plcfgs.DataCubeCfg()"
   ]
  },
  {
   "cell_type": "code",
   "execution_count": 3,
   "metadata": {},
   "outputs": [],
   "source": [
    "viewport = ee.FeatureCollection.from_file(\n",
    "    filename=\"../000-data/intersection_64.shp\",\n",
    "    driver='ESRI Shapefile'\n",
    ").geometry()\n"
   ]
  },
  {
   "cell_type": "code",
   "execution_count": 4,
   "metadata": {},
   "outputs": [],
   "source": [
    "def set_tile_id(element: ee.Image):\n",
    "    row = ee.Number(element.get('row')).format('%03d')\n",
    "    col = ee.Number(element.get('col')).format('%03d')\n",
    "    tile_id = row.cat(col)\n",
    "    return element.set('tileId', tile_id)"
   ]
  },
  {
   "cell_type": "code",
   "execution_count": 5,
   "metadata": {},
   "outputs": [],
   "source": [
    "# base collection\n",
    "datacube = ee.ImageCollection('projects/fpca-336015/assets/williston-cba')\\\n",
    "    .filterBounds(viewport).map(set_tile_id).select(\n",
    "        selectors=cfg.src_bands,\n",
    "        opt_names=cfg.dest_bands\n",
    "    )\n"
   ]
  },
  {
   "cell_type": "code",
   "execution_count": 6,
   "metadata": {},
   "outputs": [],
   "source": [
    "# Optical Composite Setup\n",
    "datacube = datacube.mosaic()\n",
    "\n",
    "# isolate the seasonal composites\n",
    "spring_sel = datacube.select(cfg.band_prefix.get('spring'))\n",
    "summer_sel = datacube.select(cfg.band_prefix.get('summer'))\n",
    "fall_sel = datacube.select(cfg.band_prefix.get('fall'))\n",
    "\n",
    "seasonal_images = [spring_sel, summer_sel, fall_sel]\n",
    "src_bands = [str(_.name) for _ in eelib.bands.S2SR]\n",
    "optical_images = [image.select(image.bandNames(), src_bands) for image in seasonal_images]\n"
   ]
  },
  {
   "cell_type": "code",
   "execution_count": null,
   "metadata": {},
   "outputs": [],
   "source": [
    "# Batch Create optical Derivs\n",
    "\n",
    "# will co - register the ones we can"
   ]
  },
  {
   "cell_type": "code",
   "execution_count": 7,
   "metadata": {},
   "outputs": [],
   "source": [
    "\n",
    "targets = []\n",
    "\n",
    "for season, dates in cfg.seasons.items():\n",
    "    base = ee.ImageCollection.s1Collection().\\\n",
    "        filter('relativeOrbitNumber_start == 64').\\\n",
    "        filterDate(*dates).\\\n",
    "        filterBounds(viewport)\n",
    "    target_dates = [ee.Date(_) for _ in dates]\n",
    "    \n",
    "    # calc mid point\n",
    "    mid_point = eefuncs.get_mid_point(target_dates)\n",
    "    \n",
    "    # difference the images date against the mid point\n",
    "    target_collection = eefuncs.days_from_mid(\n",
    "        collection=base,\n",
    "        midPoint = mid_point\n",
    "    )\n",
    "    def setprops(element):\n",
    "        return element.set('datestr', element.date().format('YYYY-MM-dd'),\n",
    "                           'season', season)\n",
    "    # inseart season \n",
    "    target_list = target_collection.filterDate(*dates)\\\n",
    "        .map(setprops).map(eefuncs.insert_groupid)\\\n",
    "        .toList(target_collection.size())\n",
    "    target_list = target_list.map(lambda x: ee.Image(x))\n",
    "    targets.append(target_list)\n",
    "\n"
   ]
  },
  {
   "cell_type": "code",
   "execution_count": 8,
   "metadata": {},
   "outputs": [
    {
     "name": "stdout",
     "output_type": "stream",
     "text": [
      "12\n"
     ]
    },
    {
     "data": {
      "text/plain": [
       "23"
      ]
     },
     "execution_count": 8,
     "metadata": {},
     "output_type": "execute_result"
    }
   ],
   "source": [
    "from pprint import pprint\n",
    "\n",
    "pprint(targets[0].size().getInfo())\n",
    "\n",
    "ee_list = ee.List(targets).flatten()\n",
    "ee_list.size().getInfo()"
   ]
  },
  {
   "cell_type": "code",
   "execution_count": 9,
   "metadata": {},
   "outputs": [
    {
     "name": "stdout",
     "output_type": "stream",
     "text": [
      "{'bands': [{'crs': 'EPSG:32610',\n",
      "            'crs_transform': [10,\n",
      "                              0,\n",
      "                              392202.90336598887,\n",
      "                              0,\n",
      "                              -10,\n",
      "                              6081906.960594987],\n",
      "            'data_type': {'precision': 'double', 'type': 'PixelType'},\n",
      "            'dimensions': [29346, 21508],\n",
      "            'id': 'VV'},\n",
      "           {'crs': 'EPSG:32610',\n",
      "            'crs_transform': [10,\n",
      "                              0,\n",
      "                              392202.90336598887,\n",
      "                              0,\n",
      "                              -10,\n",
      "                              6081906.960594987],\n",
      "            'data_type': {'precision': 'double', 'type': 'PixelType'},\n",
      "            'dimensions': [29346, 21508],\n",
      "            'id': 'VH'},\n",
      "           {'crs': 'EPSG:32610',\n",
      "            'crs_transform': [12795.92113506468,\n",
      "                              -4053.747985428199,\n",
      "                              427994.4226686542,\n",
      "                              2421.2630203869194,\n",
      "                              19935.71056424454,\n",
      "                              5867349.437856024],\n",
      "            'data_type': {'precision': 'float', 'type': 'PixelType'},\n",
      "            'dimensions': [21, 10],\n",
      "            'id': 'angle'}],\n",
      " 'id': 'COPERNICUS/S1_GRD/S1B_IW_GRDH_1SDV_20180516T015450_20180516T015515_010940_014068_802E',\n",
      " 'properties': {'GRD_Post_Processing_facility_country': 'United Kingdom',\n",
      "                'GRD_Post_Processing_facility_name': 'Copernicus S1 Core '\n",
      "                                                     'Ground Segment - UPA',\n",
      "                'GRD_Post_Processing_facility_org': 'ESA',\n",
      "                'GRD_Post_Processing_facility_site': 'Airbus DS-Newport',\n",
      "                'GRD_Post_Processing_software_name': 'Sentinel-1 IPF',\n",
      "                'GRD_Post_Processing_software_version': '002.90',\n",
      "                'GRD_Post_Processing_start': 1526446418300,\n",
      "                'GRD_Post_Processing_stop': 1526447095000,\n",
      "                'S1TBX_Calibration_vers': '6.0.4',\n",
      "                'S1TBX_SAR_Processing_vers': '6.0.4',\n",
      "                'SLC_Processing_facility_country': 'United Kingdom',\n",
      "                'SLC_Processing_facility_name': 'Copernicus S1 Core Ground '\n",
      "                                                'Segment - UPA',\n",
      "                'SLC_Processing_facility_org': 'ESA',\n",
      "                'SLC_Processing_facility_site': 'Airbus DS-Newport',\n",
      "                'SLC_Processing_software_name': 'Sentinel-1 IPF',\n",
      "                'SLC_Processing_software_version': '002.90',\n",
      "                'SLC_Processing_start': 1526446544000,\n",
      "                'SLC_Processing_stop': 1526446873000,\n",
      "                'SNAP_Graph_Processing_Framework_GPF_vers': '6.0.4',\n",
      "                'cycleNumber': 69,\n",
      "                'datestr': '2018-05-16',\n",
      "                'dfm': 21,\n",
      "                'familyName': 'SENTINEL-1',\n",
      "                'groupid': '64_-122.36',\n",
      "                'instrument': 'Synthetic Aperture Radar',\n",
      "                'instrumentConfigurationID': 1,\n",
      "                'instrumentMode': 'IW',\n",
      "                'instrumentSwath': 'IW',\n",
      "                'missionDataTakeID': 82024,\n",
      "                'nssdcIdentifier': '2016-025A',\n",
      "                'orbitNumber_start': 10940,\n",
      "                'orbitNumber_stop': 10940,\n",
      "                'orbitProperties_ascendingNodeTime': 1526434823610,\n",
      "                'orbitProperties_pass': 'ASCENDING',\n",
      "                'phaseIdentifier': 1,\n",
      "                'platform_number': 'B',\n",
      "                'productClass': 'S',\n",
      "                'productClassDescription': 'SAR Standard L1 Product',\n",
      "                'productComposition': 'Slice',\n",
      "                'productTimelinessCategory': 'Fast-24h',\n",
      "                'productType': 'GRD',\n",
      "                'relativeOrbitNumber_start': 64,\n",
      "                'relativeOrbitNumber_stop': 64,\n",
      "                'resolution': 'H',\n",
      "                'resolution_meters': 10,\n",
      "                'season': 'spring',\n",
      "                'segmentStartTime': 1526435287230,\n",
      "                'sliceNumber': 17,\n",
      "                'sliceProductFlag': 'true',\n",
      "                'startTimeANX': 867317.2,\n",
      "                'stopTimeANX': 892315.3,\n",
      "                'system:asset_size': 4044942226,\n",
      "                'system:footprint': {'coordinates': [[-123.19254821767599,\n",
      "                                                      53.05608721073955],\n",
      "                                                     [-121.94257990832081,\n",
      "                                                      53.19367073314314],\n",
      "                                                     [-120.95184176163686,\n",
      "                                                      53.29283147232436],\n",
      "                                                     [-120.41766651567336,\n",
      "                                                      53.34271644509704],\n",
      "                                                     [-120.28936622909424,\n",
      "                                                      53.35434782496991],\n",
      "                                                     [-120.29300455557102,\n",
      "                                                      53.46200042490279],\n",
      "                                                     [-120.40494307494058,\n",
      "                                                      53.92249991100782],\n",
      "                                                     [-120.50824688917481,\n",
      "                                                      54.30066839728716],\n",
      "                                                     [-120.61335640383854,\n",
      "                                                      54.67874572801872],\n",
      "                                                     [-120.66769885672782,\n",
      "                                                      54.84998918866131],\n",
      "                                                     [-122.59360674441525,\n",
      "                                                      54.66712972013664],\n",
      "                                                     [-124.50280789765637,\n",
      "                                                      54.45369090966413],\n",
      "                                                     [-124.5011406440823,\n",
      "                                                      54.447547812402846],\n",
      "                                                     [-124.36222751320608,\n",
      "                                                      54.03861226883449],\n",
      "                                                     [-124.32504333968713,\n",
      "                                                      53.93591807477108],\n",
      "                                                     [-124.12739612952875,\n",
      "                                                      53.38322799949755],\n",
      "                                                     [-124.06624303263783,\n",
      "                                                      53.21011393037467],\n",
      "                                                     [-124.00618759951688,\n",
      "                                                      53.04342708433156],\n",
      "                                                     [-123.97166638497168,\n",
      "                                                      52.96321865912017],\n",
      "                                                     [-123.19254821767599,\n",
      "                                                      53.05608721073955]],\n",
      "                                     'type': 'LinearRing'},\n",
      "                'system:index': 'S1B_IW_GRDH_1SDV_20180516T015450_20180516T015515_010940_014068_802E',\n",
      "                'system:time_start': 1526435690000,\n",
      "                'totalSlices': 19,\n",
      "                'transmitterReceiverPolarisation': ['VV', 'VH']},\n",
      " 'type': 'Image',\n",
      " 'version': 1672240595739242}\n"
     ]
    }
   ],
   "source": [
    "col = ee.ImageCollection(ee_list)\n",
    "col.size().getInfo()\n",
    "pprint(col.first().getInfo())"
   ]
  },
  {
   "cell_type": "code",
   "execution_count": 10,
   "metadata": {},
   "outputs": [
    {
     "name": "stdout",
     "output_type": "stream",
     "text": [
      "Season: \n",
      "dfm, len\n",
      "21, 3\n",
      "9, 3\n",
      "2, 3\n",
      "14, 3\n",
      "Season: \n",
      "dfm, len\n",
      "28, 3\n",
      "16, 3\n",
      "4, 2\n",
      "Season: \n",
      "dfm, len\n",
      "15, 3\n"
     ]
    }
   ],
   "source": [
    "\n",
    "for season in cfg.seasons.keys():\n",
    "    base = col.filter(f'season == \"{season}\"')\n",
    "    \n",
    "    dfms = base.aggregate_array('dfm').distinct().getInfo()\n",
    "    print(\"Season: \")\n",
    "    print(\"dfm, len\")\n",
    "    for dfm in dfms:\n",
    "        query = base.filter(f'dfm == {dfm}')\n",
    "        print(f\"{dfm}, {query.size().getInfo()}\")"
   ]
  },
  {
   "cell_type": "code",
   "execution_count": 11,
   "metadata": {},
   "outputs": [
    {
     "data": {
      "text/plain": [
       "['64_-122.36',\n",
       " '64_-122.83',\n",
       " '64_-123.37',\n",
       " '64_-122.47',\n",
       " '64_-122.94',\n",
       " '64_-123.33']"
      ]
     },
     "execution_count": 11,
     "metadata": {},
     "output_type": "execute_result"
    }
   ],
   "source": [
    "groupids = col.aggregate_array('groupid').distinct().getInfo()\n",
    "groupids"
   ]
  },
  {
   "cell_type": "code",
   "execution_count": 16,
   "metadata": {},
   "outputs": [],
   "source": [
    "querys = [('spring', 2), ('summer', 16), ('fall', 15)] \n",
    "s1_imgs = [col.filter(f\"season == '{q[0]}' && dfm == {q[1]}\")\n",
    "           for q in querys]\n",
    "# s1_imgs = eefuncs.batch_despeckle(s1_imgs, sf.Boxcar(1))\n"
   ]
  },
  {
   "cell_type": "code",
   "execution_count": 18,
   "metadata": {},
   "outputs": [
    {
     "data": {
      "text/plain": [
       "['S1B_IW_GRDH_1SDV_20180609T015452_20180609T015517_011290_014BA0_39FD',\n",
       " 'S1B_IW_GRDH_1SDV_20180609T015517_20180609T015542_011290_014BA0_2658',\n",
       " 'S1B_IW_GRDH_1SDV_20180609T015542_20180609T015616_011290_014BA0_EE30']"
      ]
     },
     "execution_count": 18,
     "metadata": {},
     "output_type": "execute_result"
    }
   ],
   "source": [
    "s1_imgs[0].aggregate_array('system:index').getInfo()"
   ]
  },
  {
   "cell_type": "code",
   "execution_count": 24,
   "metadata": {},
   "outputs": [
    {
     "data": {
      "text/plain": [
       "['S1B_IW_GRDH_1SDV_20180609T015452_20180609T015517_011290_014BA0_39FD\\n',\n",
       " 'S1B_IW_GRDH_1SDV_20180609T015517_20180609T015542_011290_014BA0_2658\\n',\n",
       " 'S1B_IW_GRDH_1SDV_20180609T015542_20180609T015616_011290_014BA0_EE30\\n',\n",
       " 'S1B_IW_GRDH_1SDV_20180715T015454_20180715T015519_011815_015BE0_0362\\n',\n",
       " 'S1B_IW_GRDH_1SDV_20180715T015519_20180715T015544_011815_015BE0_D8D7\\n',\n",
       " 'S1B_IW_GRDH_1SDV_20180715T015544_20180715T015618_011815_015BE0_8287\\n',\n",
       " 'S1B_IW_GRDH_1SDV_20180913T015503_20180913T015528_012690_0176B4_78B3\\n',\n",
       " 'S1B_IW_GRDH_1SDV_20180913T015528_20180913T015553_012690_0176B4_0EB4\\n',\n",
       " 'S1B_IW_GRDH_1SDV_20180913T015553_20180913T015613_012690_0176B4_EB44\\n']"
      ]
     },
     "execution_count": 24,
     "metadata": {},
     "output_type": "execute_result"
    }
   ],
   "source": [
    "s1_strs = [s1_img.aggregate_array('system:index').getInfo() \n",
    "           for s1_img in s1_imgs]\n",
    "s1_strs_flatten = [f'{item}\\n' for sublist in s1_strs for item in sublist]\n",
    "s1_strs_flatten"
   ]
  },
  {
   "cell_type": "code",
   "execution_count": 25,
   "metadata": {},
   "outputs": [],
   "source": [
    "with open('systems.txt', 'w+') as file:\n",
    "    file.writelines(s1_strs_flatten)"
   ]
  },
  {
   "cell_type": "code",
   "execution_count": 17,
   "metadata": {},
   "outputs": [
    {
     "data": {
      "application/vnd.jupyter.widget-view+json": {
       "model_id": "c7c532ffee984307bf9413d003e0a083",
       "version_major": 2,
       "version_minor": 0
      },
      "text/plain": [
       "Map(center=[20, 0], controls=(WidgetControl(options=['position', 'transparent_bg'], widget=HBox(children=(Togg…"
      ]
     },
     "metadata": {},
     "output_type": "display_data"
    }
   ],
   "source": [
    "import geemap\n",
    "\n",
    "Map = geemap.Map()\n",
    "Map"
   ]
  },
  {
   "cell_type": "code",
   "execution_count": 19,
   "metadata": {},
   "outputs": [],
   "source": [
    "Map.addLayer(s1_imgs[2], {\"bands\": ['VV'], 'min': -25, 'max': 10}, 'Fall')\n",
    "Map.addLayer(s1_imgs[1], {\"bands\": ['VV'], 'min': -25, 'max': 10}, 'Summer')\n",
    "Map.addLayer(s1_imgs[0], {\"bands\": ['VV'], 'min': -25, 'max': 10}, 'Spring')\n",
    "Map.addLayer(viewport, {}, \"Viewport\")\n",
    "\n",
    "Map.addLayerControl()"
   ]
  },
  {
   "cell_type": "code",
   "execution_count": null,
   "metadata": {},
   "outputs": [],
   "source": []
  }
 ],
 "metadata": {
  "kernelspec": {
   "display_name": "eerfpl-exps",
   "language": "python",
   "name": "python3"
  },
  "language_info": {
   "codemirror_mode": {
    "name": "ipython",
    "version": 3
   },
   "file_extension": ".py",
   "mimetype": "text/x-python",
   "name": "python",
   "nbconvert_exporter": "python",
   "pygments_lexer": "ipython3",
   "version": "3.10.8 | packaged by conda-forge | (main, Nov 22 2022, 08:16:33) [MSC v.1929 64 bit (AMD64)]"
  },
  "orig_nbformat": 4,
  "vscode": {
   "interpreter": {
    "hash": "6c16a566310f81b13ef96ec5acff17a8ab8de3be468d93cf894883e7dec466e8"
   }
  }
 },
 "nbformat": 4,
 "nbformat_minor": 2
}
