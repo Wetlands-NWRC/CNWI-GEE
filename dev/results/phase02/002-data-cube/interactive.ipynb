{
 "cells": [
  {
   "cell_type": "code",
   "execution_count": 1,
   "metadata": {},
   "outputs": [
    {
     "data": {
      "text/plain": [
       "True"
      ]
     },
     "execution_count": 1,
     "metadata": {},
     "output_type": "execute_result"
    }
   ],
   "source": [
    "import os\n",
    "\n",
    "import geemap\n",
    "import ee\n",
    "import eelib\n",
    "from dotenv import load_dotenv\n",
    "from pipelines import eerfpl, factories, colors\n",
    "\n",
    "load_dotenv()"
   ]
  },
  {
   "cell_type": "code",
   "execution_count": 2,
   "metadata": {},
   "outputs": [],
   "source": [
    "viewport = ee.FeatureCollection.from_file(\n",
    "    filename = \"../000-data/viewport.shp\"\n",
    ").geometry()\n",
    "\n",
    "training_data = ee.FeatureCollection.from_file(\n",
    "    filename=\"../../phase01/000-data/training_data.gdb\",\n",
    "    driver='FileGDB',\n",
    "    layer='training_points_700'\n",
    ")\n"
   ]
  },
  {
   "cell_type": "code",
   "execution_count": 3,
   "metadata": {},
   "outputs": [
    {
     "data": {
      "text/plain": [
       "['S1B_IW_GRDH_1SDV_20180609T015452_20180609T015517_011290_014BA0_39FD',\n",
       " 'S1B_IW_GRDH_1SDV_20180609T015517_20180609T015542_011290_014BA0_2658',\n",
       " 'S1B_IW_GRDH_1SDV_20180609T015542_20180609T015616_011290_014BA0_EE30',\n",
       " 'S1B_IW_GRDH_1SDV_20180715T015454_20180715T015519_011815_015BE0_0362',\n",
       " 'S1B_IW_GRDH_1SDV_20180715T015519_20180715T015544_011815_015BE0_D8D7',\n",
       " 'S1B_IW_GRDH_1SDV_20180715T015544_20180715T015618_011815_015BE0_8287',\n",
       " 'S1B_IW_GRDH_1SDV_20180913T015503_20180913T015528_012690_0176B4_78B3',\n",
       " 'S1B_IW_GRDH_1SDV_20180913T015528_20180913T015553_012690_0176B4_0EB4',\n",
       " 'S1B_IW_GRDH_1SDV_20180913T015553_20180913T015613_012690_0176B4_EB44']"
      ]
     },
     "execution_count": 3,
     "metadata": {},
     "output_type": "execute_result"
    }
   ],
   "source": [
    "with open(\"./systems.txt\", 'r') as file:\n",
    "    ids = [line.strip() for line in file.readlines()]\n",
    "ids"
   ]
  },
  {
   "cell_type": "code",
   "execution_count": 4,
   "metadata": {},
   "outputs": [
    {
     "data": {
      "text/plain": [
       "[<ee.image.Image at 0x1c521b79840>,\n",
       " <ee.image.Image at 0x1c521b797e0>,\n",
       " <ee.image.Image at 0x1c521b791e0>,\n",
       " <ee.image.Image at 0x1c521b798a0>,\n",
       " <ee.image.Image at 0x1c521b79930>,\n",
       " <ee.image.Image at 0x1c521b791b0>,\n",
       " <ee.image.Image at 0x1c521b79690>,\n",
       " <ee.image.Image at 0x1c521b79630>,\n",
       " <ee.image.Image at 0x1c521b795d0>]"
      ]
     },
     "execution_count": 4,
     "metadata": {},
     "output_type": "execute_result"
    }
   ],
   "source": [
    "ee_images = [ee.Image(f'COPERNICUS/S1_GRD/{_}') for _ in ids]\n",
    "ee_images"
   ]
  },
  {
   "cell_type": "code",
   "execution_count": 5,
   "metadata": {},
   "outputs": [],
   "source": [
    "# img_col = ee.ImageCollection(ee_images).map(lambda x: x.set('dateFmt', x.date().format('YYYY-MM-dd')))\n",
    "# dates = img_col.aggregate_array('dateFmt').distinct()\n",
    "# dates_list = dates.getInfo()\n",
    "\n",
    "# s1_inputs = [\n",
    "#     img_col.filter(f'dateFmt == \"{date}\"').mosaic() for date in dates_list\n",
    "# ]\n",
    "# s1_inputs = eefuncs.batch_despeckle(s1_inputs, sf.Boxcar(1))\n",
    "\n",
    "datacube = factories.DatacubeCollection(\n",
    "    arg=\"projects/fpca-336015/assets/williston-cba\"\n",
    ").filterBounds(viewport)\n",
    "\n",
    "s1_collection = ee.ImageCollection(ee_images)\n",
    "\n",
    "# datacube_inputs = factories.datacube_img_factory(\n",
    "#     datacube_collection=datacube,\n",
    "#     viewport=viewport\n",
    "# )\n",
    "\n",
    "dem = ee.Image(\"NASA/NASADEM_HGT/001\").select('elevation')"
   ]
  },
  {
   "cell_type": "code",
   "execution_count": 6,
   "metadata": {},
   "outputs": [],
   "source": [
    "pipeline = eerfpl.DataCubePipelineLSC(\n",
    "    sar=s1_collection,\n",
    "    optical=datacube,\n",
    "    dem=dem,\n",
    "    training_data=training_data\n",
    ")\n",
    "\n",
    "# Export Settings\n",
    "pipeline.bucket = os.environ.get('BUCKET')\n",
    "pipeline.root = os.environ.get('ROOT')\n",
    "pipeline.caseNumber = \"Phase02\"\n",
    "pipeline.region = viewport\n",
    "\n",
    "output = pipeline.run()\n",
    "\n",
    "pipeline.logging()\n",
    "\n",
    "\n"
   ]
  },
  {
   "cell_type": "code",
   "execution_count": 7,
   "metadata": {},
   "outputs": [
    {
     "data": {
      "application/vnd.jupyter.widget-view+json": {
       "model_id": "d4988e4a743b4b86ac01fec1b0d057a0",
       "version_major": 2,
       "version_minor": 0
      },
      "text/plain": [
       "Map(center=[20, 0], controls=(WidgetControl(options=['position', 'transparent_bg'], widget=HBox(children=(Togg…"
      ]
     },
     "metadata": {},
     "output_type": "display_data"
    }
   ],
   "source": [
    "Map = geemap.Map()\n",
    "\n",
    "Map"
   ]
  },
  {
   "cell_type": "code",
   "execution_count": 8,
   "metadata": {},
   "outputs": [],
   "source": [
    "vis = {'palette': [f'#{_.value}' for _ in colors.Colors], 'min': 1, 'max': 7}\n",
    "Map.centerObject(viewport, 6)\n",
    "\n",
    "Map.addLayer(output.get('image'), vis, 'LSC Williston')\n"
   ]
  },
  {
   "cell_type": "code",
   "execution_count": 10,
   "metadata": {},
   "outputs": [],
   "source": [
    "pipeline.exportToCloud()"
   ]
  },
  {
   "cell_type": "code",
   "execution_count": null,
   "metadata": {},
   "outputs": [],
   "source": []
  }
 ],
 "metadata": {
  "kernelspec": {
   "display_name": "eerfpl-env",
   "language": "python",
   "name": "python3"
  },
  "language_info": {
   "codemirror_mode": {
    "name": "ipython",
    "version": 3
   },
   "file_extension": ".py",
   "mimetype": "text/x-python",
   "name": "python",
   "nbconvert_exporter": "python",
   "pygments_lexer": "ipython3",
   "version": "3.10.8 | packaged by conda-forge | (main, Nov 22 2022, 08:16:33) [MSC v.1929 64 bit (AMD64)]"
  },
  "orig_nbformat": 4,
  "vscode": {
   "interpreter": {
    "hash": "b35acdfd07afa3708d1f20e7b56ba5caae7c4b065d4c1d4fcfd7630ad4acab5c"
   }
  }
 },
 "nbformat": 4,
 "nbformat_minor": 2
}
