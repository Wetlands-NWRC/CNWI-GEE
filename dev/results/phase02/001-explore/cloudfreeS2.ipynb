{
 "cells": [
  {
   "cell_type": "code",
   "execution_count": 1,
   "id": "4afc03e6-3b3d-4f7d-ac6e-b11280ac87b2",
   "metadata": {},
   "outputs": [
    {
     "name": "stderr",
     "output_type": "stream",
     "text": [
      "C:\\Users\\ryanh\\miniconda3\\envs\\eelib\\lib\\site-packages\\pyproj\\__init__.py:90: UserWarning: pyproj unable to set database path.\n",
      "  _pyproj_global_context_initialize()\n"
     ]
    }
   ],
   "source": [
    "import ee\n",
    "import geemap \n",
    "from eelib import collections"
   ]
  },
  {
   "cell_type": "code",
   "execution_count": 2,
   "id": "a47f00bc-351c-4a00-92ce-4141a442a4d2",
   "metadata": {},
   "outputs": [],
   "source": [
    "Map = geemap.Map()"
   ]
  },
  {
   "cell_type": "code",
   "execution_count": null,
   "id": "a14ff3df-2ca1-45ac-bb89-aafc9c65da15",
   "metadata": {},
   "outputs": [],
   "source": []
  }
 ],
 "metadata": {
  "kernelspec": {
   "display_name": "Python 3 (ipykernel)",
   "language": "python",
   "name": "python3"
  },
  "language_info": {
   "codemirror_mode": {
    "name": "ipython",
    "version": 3
   },
   "file_extension": ".py",
   "mimetype": "text/x-python",
   "name": "python",
   "nbconvert_exporter": "python",
   "pygments_lexer": "ipython3",
   "version": "3.10.8"
  }
 },
 "nbformat": 4,
 "nbformat_minor": 5
}
