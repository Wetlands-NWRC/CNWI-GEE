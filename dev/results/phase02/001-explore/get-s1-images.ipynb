{
 "cells": [
  {
   "cell_type": "code",
   "execution_count": 1,
   "id": "265fe68a-d612-4ea4-b4cd-122e2b0a0b06",
   "metadata": {},
   "outputs": [
    {
     "name": "stderr",
     "output_type": "stream",
     "text": [
      "C:\\Users\\ryanh\\miniconda3\\envs\\eelib\\lib\\site-packages\\pyproj\\__init__.py:90: UserWarning: pyproj unable to set database path.\n",
      "  _pyproj_global_context_initialize()\n"
     ]
    }
   ],
   "source": [
    "import ee\n",
    "import geemap\n",
    "from eelib import collections, eefuncs"
   ]
  },
  {
   "cell_type": "code",
   "execution_count": 3,
   "id": "37e0156b-6981-4a62-9366-8d051d82456c",
   "metadata": {},
   "outputs": [],
   "source": [
    "ee.Initialize()"
   ]
  },
  {
   "cell_type": "code",
   "execution_count": 4,
   "id": "1ca3fc5c-c26c-4e62-8179-9dc030ddabc0",
   "metadata": {},
   "outputs": [],
   "source": [
    "## Analysis\n",
    "\n",
    "s1 = collections.S1Collection()"
   ]
  },
  {
   "cell_type": "code",
   "execution_count": null,
   "id": "fb737799-2216-412b-a234-f6c1e151d070",
   "metadata": {},
   "outputs": [],
   "source": []
  },
  {
   "cell_type": "code",
   "execution_count": null,
   "id": "45329959-5948-4e5a-980d-8d4c4da2d047",
   "metadata": {},
   "outputs": [],
   "source": []
  }
 ],
 "metadata": {
  "codeCellConfig": {
   "lineNumbers": true,
   "rulers": [
    80
   ]
  },
  "kernelspec": {
   "display_name": "eerfpl-exps",
   "language": "python",
   "name": "python3"
  },
  "language_info": {
   "codemirror_mode": {
    "name": "ipython",
    "version": 3
   },
   "file_extension": ".py",
   "mimetype": "text/x-python",
   "name": "python",
   "nbconvert_exporter": "python",
   "pygments_lexer": "ipython3",
   "version": "3.10.8 | packaged by conda-forge | (main, Nov 22 2022, 08:16:33) [MSC v.1929 64 bit (AMD64)]"
  },
  "vscode": {
   "interpreter": {
    "hash": "6c16a566310f81b13ef96ec5acff17a8ab8de3be468d93cf894883e7dec466e8"
   }
  }
 },
 "nbformat": 4,
 "nbformat_minor": 5
}
