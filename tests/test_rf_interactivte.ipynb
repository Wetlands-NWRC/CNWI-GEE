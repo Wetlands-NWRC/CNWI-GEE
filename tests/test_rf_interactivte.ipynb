{
 "cells": [
  {
   "cell_type": "code",
   "execution_count": 1,
   "metadata": {},
   "outputs": [],
   "source": [
    "import ee\n",
    "\n",
    "ee.Initialize()"
   ]
  },
  {
   "cell_type": "code",
   "execution_count": 2,
   "metadata": {},
   "outputs": [],
   "source": [
    "from cnwi import sar, datacube, fourier, datasets, rf, trainingd as td"
   ]
  },
  {
   "cell_type": "code",
   "execution_count": 3,
   "metadata": {},
   "outputs": [
    {
     "ename": "AttributeError",
     "evalue": "'ImageCollection' object has no attribute 'bandNames'",
     "output_type": "error",
     "traceback": [
      "\u001b[1;31m---------------------------------------------------------------------------\u001b[0m",
      "\u001b[1;31mAttributeError\u001b[0m                            Traceback (most recent call last)",
      "Cell \u001b[1;32mIn[3], line 13\u001b[0m\n\u001b[0;32m     11\u001b[0m \u001b[39m# Data Cube\u001b[39;00m\n\u001b[0;32m     12\u001b[0m dc_col \u001b[39m=\u001b[39m ee\u001b[39m.\u001b[39mImageCollection(ns_data_set\u001b[39m.\u001b[39mdata_cube)\n\u001b[1;32m---> 13\u001b[0m dcpp \u001b[39m=\u001b[39m datacube\u001b[39m.\u001b[39;49mprep_data_cube(dc_col)\n\u001b[0;32m     14\u001b[0m dc_inpts \u001b[39m=\u001b[39m datacube\u001b[39m.\u001b[39mbuild_data_cube_inpts(dcpp)\n\u001b[0;32m     17\u001b[0m \u001b[39m# Terrain Analysis\u001b[39;00m\n",
      "File \u001b[1;32m~\\programming\\CNWI-GEE\\cnwi\\datacube.py:108\u001b[0m, in \u001b[0;36mprep_data_cube\u001b[1;34m(col)\u001b[0m\n\u001b[0;32m    105\u001b[0m \u001b[39m# remove the 60m component\u001b[39;00m\n\u001b[0;32m    106\u001b[0m new_col \u001b[39m=\u001b[39m col\u001b[39m.\u001b[39mmap(\u001b[39mlambda\u001b[39;00m x: x\u001b[39m.\u001b[39mselect(concat, new_band_names))\n\u001b[1;32m--> 108\u001b[0m band_names: ee\u001b[39m.\u001b[39mList \u001b[39m=\u001b[39m new_col\u001b[39m.\u001b[39;49mbandNames()\n\u001b[0;32m    109\u001b[0m band_names_remove_60 \u001b[39m=\u001b[39m band_names\u001b[39m.\u001b[39mremove(\u001b[39m'\u001b[39m\u001b[39mB1\u001b[39m\u001b[39m'\u001b[39m)\u001b[39m.\u001b[39mremove(\u001b[39m'\u001b[39m\u001b[39mB1_1\u001b[39m\u001b[39m'\u001b[39m)\u001b[39m.\u001b[39mremove(\u001b[39m'\u001b[39m\u001b[39mB1_2\u001b[39m\u001b[39m'\u001b[39m)\n\u001b[0;32m    111\u001b[0m \u001b[39mreturn\u001b[39;00m new_col\u001b[39m.\u001b[39mselect(band_names_remove_60)\n",
      "\u001b[1;31mAttributeError\u001b[0m: 'ImageCollection' object has no attribute 'bandNames'"
     ]
    }
   ],
   "source": [
    "ns_data_set = datasets.NovaScotia()\n",
    "    \n",
    "ee_training = ee.FeatureCollection(\"projects/fpca-336015/assets/NovaScotia/_527_POINTS\")\n",
    "eegrid = ee.FeatureCollection(\"projects/fpca-336015/assets/NovaScotia/_527_ECO_DIST\").geometry()\n",
    "\n",
    "# Sentinel -1 \n",
    "s1_col = ee.ImageCollection(ns_data_set.sentienl1)\n",
    "sar_inpts = sar.build_s1_inputs(s1_col)\n",
    "alos_inpts = sar.build_alos_inpts(2019)\n",
    "\n",
    "# Data Cube\n",
    "dc_col = ee.ImageCollection(ns_data_set.data_cube)\n",
    "dcpp = datacube.prep_data_cube(dc_col)\n",
    "dc_inpts = datacube.build_data_cube_inpts(dcpp)\n",
    "\n",
    "\n",
    "# Terrain Analysis\n",
    "elev_inpt = ee.ImageCollection(ns_data_set.terrain_analysis).mosaic()\n",
    "\n",
    "# create fourier transform\n",
    "fourier = ee.ImageCollection(\"projects/fpca-336015/assets/NovaScotia/fourier_transform\").mosaic()\n",
    "\n",
    "# create the stack\n",
    "stack = ee.Image.cat(sar_inpts, alos_inpts, dc_inpts, elev_inpt, fourier)\n",
    "\n",
    "training_prep = td.prep_training_data(col=ee_training, class_property='land_cover')\n",
    "training_samples = td.generate_samples(col=training_prep, stack=stack)\n",
    "\n",
    "clf = rf.RandomForestModel(\n",
    "    numberOfTrees=1000\n",
    ")\n",
    "\n",
    "trained = clf.train(\n",
    "    training_data=training_samples,\n",
    "    predictors=stack.bandNames(),\n",
    "    classProperty='value'\n",
    ")\n",
    "\n",
    "clf_img = stack.classify(trained).uint8().clip(eegrid)"
   ]
  },
  {
   "cell_type": "code",
   "execution_count": null,
   "metadata": {},
   "outputs": [],
   "source": [
    "import geemap"
   ]
  },
  {
   "cell_type": "code",
   "execution_count": null,
   "metadata": {},
   "outputs": [
    {
     "data": {
      "application/vnd.jupyter.widget-view+json": {
       "model_id": "fc86e798b5e74899996b0a5f09784615",
       "version_major": 2,
       "version_minor": 0
      },
      "text/plain": [
       "Map(center=[45.53836464965929, -62.28521924329163], controls=(WidgetControl(options=['position', 'transparent_…"
      ]
     },
     "execution_count": 5,
     "metadata": {},
     "output_type": "execute_result"
    }
   ],
   "source": [
    "Map = geemap.Map()\n",
    "\n",
    "Map.addLayer(clf_img, {'min': 1, 'max': 6})\n",
    "Map.centerObject(clf_img, 12)\n",
    "\n",
    "Map"
   ]
  },
  {
   "cell_type": "code",
   "execution_count": null,
   "metadata": {},
   "outputs": [],
   "source": []
  }
 ],
 "metadata": {
  "kernelspec": {
   "display_name": "venv",
   "language": "python",
   "name": "python3"
  },
  "language_info": {
   "codemirror_mode": {
    "name": "ipython",
    "version": 3
   },
   "file_extension": ".py",
   "mimetype": "text/x-python",
   "name": "python",
   "nbconvert_exporter": "python",
   "pygments_lexer": "ipython3",
   "version": "3.11.3"
  },
  "orig_nbformat": 4
 },
 "nbformat": 4,
 "nbformat_minor": 2
}
