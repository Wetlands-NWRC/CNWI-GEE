{
 "cells": [
  {
   "cell_type": "code",
   "execution_count": 1,
   "metadata": {},
   "outputs": [],
   "source": [
    "import ee\n",
    "\n",
    "ee.Initialize()"
   ]
  },
  {
   "cell_type": "code",
   "execution_count": 2,
   "metadata": {},
   "outputs": [],
   "source": [
    "from cnwi import sar, datacube, fourier, datasets, rf, trainingd as td"
   ]
  },
  {
   "cell_type": "code",
   "execution_count": 3,
   "metadata": {},
   "outputs": [],
   "source": [
    "ns_data_set = datasets.NovaScotia()\n",
    "    \n",
    "ee_training = ee.FeatureCollection(\"projects/fpca-336015/assets/NovaScotia/_527_POINTS\")\n",
    "eegrid = ee.FeatureCollection(\"projects/fpca-336015/assets/NovaScotia/_527_ECO_DIST\").geometry()\n",
    "\n",
    "# Sentinel -1 \n",
    "s1_col = ee.ImageCollection(ns_data_set.sentienl1)\n",
    "sar_inpts = sar.build_s1_inputs(s1_col)\n",
    "alos_inpts = sar.build_alos_inpts(2019)\n",
    "\n",
    "# Data Cube\n",
    "dc_col = ee.ImageCollection(ns_data_set.data_cube)\n",
    "dcpp = datacube.prep_data_cube(dc_col)\n",
    "dc_inpts = datacube.build_data_cube_inpts(dcpp)\n",
    "\n",
    "\n",
    "# Terrain Analysis\n",
    "elev_inpt = ee.ImageCollection(ns_data_set.terrain_analysis).mosaic()\n",
    "\n",
    "# create fourier transform\n",
    "fourier = ee.ImageCollection(\"projects/fpca-336015/assets/NovaScotia/fourier_transform\").mosaic()\n",
    "\n",
    "# create the stack\n",
    "stack = ee.Image.cat(sar_inpts, alos_inpts, dc_inpts, elev_inpt, fourier)\n",
    "\n",
    "training_prep = td.prep_training_data(col=ee_training, class_property='land_cover')\n",
    "training_samples = td.generate_samples(col=training_prep, stack=stack)\n",
    "\n",
    "clf = rf.RandomForestModel(\n",
    "    numberOfTrees=1000\n",
    ")\n",
    "\n",
    "trained = clf.train(\n",
    "    training_data=training_samples,\n",
    "    predictors=stack.bandNames(),\n",
    "    classProperty='value'\n",
    ")\n",
    "\n",
    "clf_img = stack.classify(trained).uint8().clip(eegrid)"
   ]
  },
  {
   "cell_type": "code",
   "execution_count": 4,
   "metadata": {},
   "outputs": [],
   "source": [
    "import geemap"
   ]
  },
  {
   "cell_type": "code",
   "execution_count": 5,
   "metadata": {},
   "outputs": [
    {
     "data": {
      "application/vnd.jupyter.widget-view+json": {
       "model_id": "d581d839174f4731bdc1c7ef7e2f3a7a",
       "version_major": 2,
       "version_minor": 0
      },
      "text/plain": [
       "Map(center=[45.53836464965929, -62.28521924329163], controls=(WidgetControl(options=['position', 'transparent_…"
      ]
     },
     "execution_count": 5,
     "metadata": {},
     "output_type": "execute_result"
    }
   ],
   "source": [
    "Map = geemap.Map()\n",
    "\n",
    "Map.addLayer(clf_img, {'min': 1, 'max': 6})\n",
    "Map.centerObject(clf_img, 12)\n",
    "\n",
    "Map"
   ]
  },
  {
   "cell_type": "code",
   "execution_count": null,
   "metadata": {},
   "outputs": [],
   "source": []
  }
 ],
 "metadata": {
  "kernelspec": {
   "display_name": "venv",
   "language": "python",
   "name": "python3"
  },
  "language_info": {
   "codemirror_mode": {
    "name": "ipython",
    "version": 3
   },
   "file_extension": ".py",
   "mimetype": "text/x-python",
   "name": "python",
   "nbconvert_exporter": "python",
   "pygments_lexer": "ipython3",
   "version": "3.11.3"
  },
  "orig_nbformat": 4
 },
 "nbformat": 4,
 "nbformat_minor": 2
}
