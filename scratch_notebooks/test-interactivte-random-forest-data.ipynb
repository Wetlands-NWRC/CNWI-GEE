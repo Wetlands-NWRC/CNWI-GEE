{
 "cells": [
  {
   "cell_type": "code",
   "execution_count": 1,
   "metadata": {},
   "outputs": [],
   "source": [
    "%load_ext autoreload\n",
    "%autoreload 2\n",
    "\n",
    "import os\n",
    "import sys\n",
    "\n",
    "module_path = os.path.abspath(os.path.join(\"../cnwi\"))\n",
    "sys.path.insert(0, module_path)"
   ]
  },
  {
   "cell_type": "markdown",
   "metadata": {},
   "source": [
    "# Toy RF Pipeline"
   ]
  },
  {
   "cell_type": "code",
   "execution_count": 23,
   "metadata": {},
   "outputs": [],
   "source": [
    "import ee\n",
    "import geemap"
   ]
  },
  {
   "cell_type": "code",
   "execution_count": 24,
   "metadata": {},
   "outputs": [],
   "source": [
    "ee.Initialize()"
   ]
  },
  {
   "cell_type": "code",
   "execution_count": 35,
   "metadata": {},
   "outputs": [],
   "source": [
    "import cfg\n",
    "import inputs\n",
    "import td\n",
    "import rf\n",
    "import landcovers as lc"
   ]
  },
  {
   "cell_type": "markdown",
   "metadata": {},
   "source": [
    "## Generate Input Stack"
   ]
  },
  {
   "cell_type": "code",
   "execution_count": 26,
   "metadata": {},
   "outputs": [],
   "source": [
    "viewport = ee.FeatureCollection(\"users/ryangilberthamilton/BC/williston/williston_sub_a_2019\")\n",
    "wil_dc_stack = inputs.Williston_Data_Cube_Stack(\n",
    "    viewport=viewport\n",
    ")\n",
    "# wil_dc_stack"
   ]
  },
  {
   "cell_type": "markdown",
   "metadata": {},
   "source": [
    "## Create Training Data and Generate Samples"
   ]
  },
  {
   "cell_type": "code",
   "execution_count": 27,
   "metadata": {},
   "outputs": [
    {
     "data": {
      "text/plain": [
       "TrainingData(collection=<ee.featurecollection.FeatureCollection object at 0x000001F831902080>, label='cDesc', value='value')"
      ]
     },
     "execution_count": 27,
     "metadata": {},
     "output_type": "execute_result"
    }
   ],
   "source": [
    "table = ee.FeatureCollection(\"users/ryangilberthamilton/BC/williston/fpca/willistonA_no_floodplain\")\n",
    "\n",
    "training_data = td.TrainingData(\n",
    "    collection = table\n",
    ")\n",
    "training_data.label = 'cDesc'\n",
    "\n",
    "td.generate_samples(\n",
    "    stack = wil_dc_stack,\n",
    "    training_data = training_data\n",
    ")\n",
    "\n",
    "# training_data.samples.first()\n"
   ]
  },
  {
   "cell_type": "code",
   "execution_count": 31,
   "metadata": {},
   "outputs": [
    {
     "data": {
      "text/html": [
       "<div><style>:root {\n",
       "  --font-color-primary: var(--jp-content-font-color0, rgba(0, 0, 0, 1));\n",
       "  --font-color-secondary: var(--jp-content-font-color2, rgba(0, 0, 0, 0.6));\n",
       "  --font-color-accent: rgba(123, 31, 162, 1);\n",
       "  --border-color: var(--jp-border-color2, #e0e0e0);\n",
       "  --background-color: var(--jp-layout-color0, white);\n",
       "  --background-color-row-even: var(--jp-layout-color1, white);\n",
       "  --background-color-row-odd: var(--jp-layout-color2, #eeeeee);\n",
       "}\n",
       "\n",
       "html[theme=\"dark\"],\n",
       "body[data-theme=\"dark\"],\n",
       "body.vscode-dark {\n",
       "  --font-color-primary: rgba(255, 255, 255, 1);\n",
       "  --font-color-secondary: rgba(255, 255, 255, 0.6);\n",
       "  --font-color-accent: rgb(173, 132, 190);\n",
       "  --border-color: #2e2e2e;\n",
       "  --background-color: #111111;\n",
       "  --background-color-row-even: #111111;\n",
       "  --background-color-row-odd: #313131;\n",
       "}\n",
       "\n",
       ".ee {\n",
       "  padding: 1em;\n",
       "  line-height: 1.5em;\n",
       "  min-width: 300px;\n",
       "  max-width: 1200px;\n",
       "  overflow-y: scroll;\n",
       "  max-height: 600px;\n",
       "  border: 1px solid var(--border-color);\n",
       "  font-family: monospace;\n",
       "}\n",
       "\n",
       ".ee li {\n",
       "  list-style-type: none;\n",
       "}\n",
       "\n",
       ".ee ul {\n",
       "  padding-left: 1.5em !important;\n",
       "  margin: 0;\n",
       "}\n",
       "\n",
       ".ee > ul {\n",
       "  padding-left: 0 !important;\n",
       "}\n",
       "\n",
       ".ee-open,\n",
       ".ee-shut {\n",
       "  color: var(--font-color-secondary);\n",
       "  cursor: pointer;\n",
       "  margin: 0;\n",
       "}\n",
       "\n",
       ".ee-open:hover,\n",
       ".ee-shut:hover {\n",
       "  color: var(--font-color-primary);\n",
       "}\n",
       "\n",
       ".ee-k {\n",
       "  color: var(--font-color-accent);\n",
       "  margin-right: 6px;\n",
       "}\n",
       "\n",
       ".ee-v {\n",
       "  color: var(--font-color-primary);\n",
       "}\n",
       "\n",
       ".ee-toggle {\n",
       "  display: none;\n",
       "}\n",
       "\n",
       ".ee-shut + ul {\n",
       "  display: none;\n",
       "}\n",
       "\n",
       ".ee-open + ul {\n",
       "  display: block;\n",
       "}\n",
       "\n",
       ".ee-shut::before {\n",
       "  display: inline-block;\n",
       "  content: \"▼\";\n",
       "  margin-right: 6px;\n",
       "  transform: rotate(-90deg);\n",
       "  transition: transform 0.2s;\n",
       "}\n",
       "\n",
       ".ee-open::before {\n",
       "  transform: rotate(0deg);\n",
       "  display: inline-block;\n",
       "  content: \"▼\";\n",
       "  margin-right: 6px;\n",
       "  transition: transform 0.2s;\n",
       "}\n",
       "</style><div class='ee'><ul><li><label class='ee-shut'>List (62 elements)<input type='checkbox' class='ee-toggle'></label><ul><li><span class='ee-k'>0:</span><span class='ee-v'>B1</span></li><li><span class='ee-k'>1:</span><span class='ee-v'>B2</span></li><li><span class='ee-k'>2:</span><span class='ee-v'>B3</span></li><li><span class='ee-k'>3:</span><span class='ee-v'>B4</span></li><li><span class='ee-k'>4:</span><span class='ee-v'>B5</span></li><li><span class='ee-k'>5:</span><span class='ee-v'>B6</span></li><li><span class='ee-k'>6:</span><span class='ee-v'>B7</span></li><li><span class='ee-k'>7:</span><span class='ee-v'>B8</span></li><li><span class='ee-k'>8:</span><span class='ee-v'>B8A</span></li><li><span class='ee-k'>9:</span><span class='ee-v'>B11</span></li><li><span class='ee-k'>10:</span><span class='ee-v'>B12</span></li><li><span class='ee-k'>11:</span><span class='ee-v'>B1_1</span></li><li><span class='ee-k'>12:</span><span class='ee-v'>B2_1</span></li><li><span class='ee-k'>13:</span><span class='ee-v'>B3_1</span></li><li><span class='ee-k'>14:</span><span class='ee-v'>B4_1</span></li><li><span class='ee-k'>15:</span><span class='ee-v'>B5_1</span></li><li><span class='ee-k'>16:</span><span class='ee-v'>B6_1</span></li><li><span class='ee-k'>17:</span><span class='ee-v'>B7_1</span></li><li><span class='ee-k'>18:</span><span class='ee-v'>B8_1</span></li><li><span class='ee-k'>19:</span><span class='ee-v'>B8A_1</span></li><li><span class='ee-k'>20:</span><span class='ee-v'>B11_1</span></li><li><span class='ee-k'>21:</span><span class='ee-v'>B12_1</span></li><li><span class='ee-k'>22:</span><span class='ee-v'>B1_2</span></li><li><span class='ee-k'>23:</span><span class='ee-v'>B2_2</span></li><li><span class='ee-k'>24:</span><span class='ee-v'>B3_2</span></li><li><span class='ee-k'>25:</span><span class='ee-v'>B4_2</span></li><li><span class='ee-k'>26:</span><span class='ee-v'>B5_2</span></li><li><span class='ee-k'>27:</span><span class='ee-v'>B6_2</span></li><li><span class='ee-k'>28:</span><span class='ee-v'>B7_2</span></li><li><span class='ee-k'>29:</span><span class='ee-v'>B8_2</span></li><li><span class='ee-k'>30:</span><span class='ee-v'>B8A_2</span></li><li><span class='ee-k'>31:</span><span class='ee-v'>B11_2</span></li><li><span class='ee-k'>32:</span><span class='ee-v'>B12_2</span></li><li><span class='ee-k'>33:</span><span class='ee-v'>NDVI</span></li><li><span class='ee-k'>34:</span><span class='ee-v'>NDVI_1</span></li><li><span class='ee-k'>35:</span><span class='ee-v'>NDVI_2</span></li><li><span class='ee-k'>36:</span><span class='ee-v'>SAVI</span></li><li><span class='ee-k'>37:</span><span class='ee-v'>SAVI_1</span></li><li><span class='ee-k'>38:</span><span class='ee-v'>SAVI_2</span></li><li><span class='ee-k'>39:</span><span class='ee-v'>Brightness</span></li><li><span class='ee-k'>40:</span><span class='ee-v'>Greenness</span></li><li><span class='ee-k'>41:</span><span class='ee-v'>Wetness</span></li><li><span class='ee-k'>42:</span><span class='ee-v'>Brightness_1</span></li><li><span class='ee-k'>43:</span><span class='ee-v'>Greenness_1</span></li><li><span class='ee-k'>44:</span><span class='ee-v'>Wetness_1</span></li><li><span class='ee-k'>45:</span><span class='ee-v'>Brightness_2</span></li><li><span class='ee-k'>46:</span><span class='ee-v'>Greenness_2</span></li><li><span class='ee-k'>47:</span><span class='ee-v'>Wetness_2</span></li><li><span class='ee-k'>48:</span><span class='ee-v'>VV</span></li><li><span class='ee-k'>49:</span><span class='ee-v'>VH</span></li><li><span class='ee-k'>50:</span><span class='ee-v'>angle</span></li><li><span class='ee-k'>51:</span><span class='ee-v'>VV_1</span></li><li><span class='ee-k'>52:</span><span class='ee-v'>VH_1</span></li><li><span class='ee-k'>53:</span><span class='ee-v'>angle_1</span></li><li><span class='ee-k'>54:</span><span class='ee-v'>VV_2</span></li><li><span class='ee-k'>55:</span><span class='ee-v'>VH_2</span></li><li><span class='ee-k'>56:</span><span class='ee-v'>angle_2</span></li><li><span class='ee-k'>57:</span><span class='ee-v'>Ratio</span></li><li><span class='ee-k'>58:</span><span class='ee-v'>Ratio_1</span></li><li><span class='ee-k'>59:</span><span class='ee-v'>Ratio_2</span></li><li><span class='ee-k'>60:</span><span class='ee-v'>elevation</span></li><li><span class='ee-k'>61:</span><span class='ee-v'>slope</span></li></ul></li></ul></div><script>function toggleHeader() {\n",
       "    const parent = this.parentElement;\n",
       "    parent.className = parent.className === \"ee-open\" ? \"ee-shut\" : \"ee-open\";\n",
       "}\n",
       "\n",
       "for (let c of document.getElementsByClassName(\"ee-toggle\")) {\n",
       "    c.onclick = toggleHeader;\n",
       "}</script></div>"
      ],
      "text/plain": [
       "<ee.ee_list.List at 0x1f831a493c0>"
      ]
     },
     "execution_count": 31,
     "metadata": {},
     "output_type": "execute_result"
    }
   ],
   "source": [
    "rf_config = rf.RandomForestCFG(\n",
    "    stack = wil_dc_stack,\n",
    "    training_data = training_data\n",
    ")\n",
    "rf_config.predictors"
   ]
  },
  {
   "cell_type": "code",
   "execution_count": 32,
   "metadata": {},
   "outputs": [],
   "source": [
    "random_forest = rf.cnwi_random_forest(\n",
    "    config = rf_config\n",
    ")"
   ]
  },
  {
   "cell_type": "code",
   "execution_count": 33,
   "metadata": {},
   "outputs": [
    {
     "data": {
      "text/plain": [
       "RFOutput(model=<ee.Classifier object at 0x000001F831A48D60>, classified=<ee.image.Image object at 0x000001F831A49FC0>, samples=TrainingData(collection=<ee.featurecollection.FeatureCollection object at 0x000001F831902080>, label='cDesc', value='value'))"
      ]
     },
     "execution_count": 33,
     "metadata": {},
     "output_type": "execute_result"
    }
   ],
   "source": [
    "random_forest"
   ]
  },
  {
   "cell_type": "code",
   "execution_count": 34,
   "metadata": {},
   "outputs": [
    {
     "data": {
      "text/html": [
       "<div><style>:root {\n",
       "  --font-color-primary: var(--jp-content-font-color0, rgba(0, 0, 0, 1));\n",
       "  --font-color-secondary: var(--jp-content-font-color2, rgba(0, 0, 0, 0.6));\n",
       "  --font-color-accent: rgba(123, 31, 162, 1);\n",
       "  --border-color: var(--jp-border-color2, #e0e0e0);\n",
       "  --background-color: var(--jp-layout-color0, white);\n",
       "  --background-color-row-even: var(--jp-layout-color1, white);\n",
       "  --background-color-row-odd: var(--jp-layout-color2, #eeeeee);\n",
       "}\n",
       "\n",
       "html[theme=\"dark\"],\n",
       "body[data-theme=\"dark\"],\n",
       "body.vscode-dark {\n",
       "  --font-color-primary: rgba(255, 255, 255, 1);\n",
       "  --font-color-secondary: rgba(255, 255, 255, 0.6);\n",
       "  --font-color-accent: rgb(173, 132, 190);\n",
       "  --border-color: #2e2e2e;\n",
       "  --background-color: #111111;\n",
       "  --background-color-row-even: #111111;\n",
       "  --background-color-row-odd: #313131;\n",
       "}\n",
       "\n",
       ".ee {\n",
       "  padding: 1em;\n",
       "  line-height: 1.5em;\n",
       "  min-width: 300px;\n",
       "  max-width: 1200px;\n",
       "  overflow-y: scroll;\n",
       "  max-height: 600px;\n",
       "  border: 1px solid var(--border-color);\n",
       "  font-family: monospace;\n",
       "}\n",
       "\n",
       ".ee li {\n",
       "  list-style-type: none;\n",
       "}\n",
       "\n",
       ".ee ul {\n",
       "  padding-left: 1.5em !important;\n",
       "  margin: 0;\n",
       "}\n",
       "\n",
       ".ee > ul {\n",
       "  padding-left: 0 !important;\n",
       "}\n",
       "\n",
       ".ee-open,\n",
       ".ee-shut {\n",
       "  color: var(--font-color-secondary);\n",
       "  cursor: pointer;\n",
       "  margin: 0;\n",
       "}\n",
       "\n",
       ".ee-open:hover,\n",
       ".ee-shut:hover {\n",
       "  color: var(--font-color-primary);\n",
       "}\n",
       "\n",
       ".ee-k {\n",
       "  color: var(--font-color-accent);\n",
       "  margin-right: 6px;\n",
       "}\n",
       "\n",
       ".ee-v {\n",
       "  color: var(--font-color-primary);\n",
       "}\n",
       "\n",
       ".ee-toggle {\n",
       "  display: none;\n",
       "}\n",
       "\n",
       ".ee-shut + ul {\n",
       "  display: none;\n",
       "}\n",
       "\n",
       ".ee-open + ul {\n",
       "  display: block;\n",
       "}\n",
       "\n",
       ".ee-shut::before {\n",
       "  display: inline-block;\n",
       "  content: \"▼\";\n",
       "  margin-right: 6px;\n",
       "  transform: rotate(-90deg);\n",
       "  transition: transform 0.2s;\n",
       "}\n",
       "\n",
       ".ee-open::before {\n",
       "  transform: rotate(0deg);\n",
       "  display: inline-block;\n",
       "  content: \"▼\";\n",
       "  margin-right: 6px;\n",
       "  transition: transform 0.2s;\n",
       "}\n",
       "</style><div class='ee'><ul><li><label class='ee-shut'>Image (1 band)<input type='checkbox' class='ee-toggle'></label><ul><li><span class='ee-k'>type:</span><span class='ee-v'>Image</span></li><li><label class='ee-shut'>bands: List (1 element)<input type='checkbox' class='ee-toggle'></label><ul><li><label class='ee-shut'>0: \"classification\", signed int32, EPSG:4326, 5x3 px<input type='checkbox' class='ee-toggle'></label><ul><li><span class='ee-k'>id:</span><span class='ee-v'>classification</span></li><li><span class='ee-k'>crs:</span><span class='ee-v'>EPSG:4326</span></li><li><label class='ee-shut'>crs_transform: [1, 0, 0, 0, 1, 0]<input type='checkbox' class='ee-toggle'></label><ul><li><span class='ee-k'>0:</span><span class='ee-v'>1</span></li><li><span class='ee-k'>1:</span><span class='ee-v'>0</span></li><li><span class='ee-k'>2:</span><span class='ee-v'>0</span></li><li><span class='ee-k'>3:</span><span class='ee-v'>0</span></li><li><span class='ee-k'>4:</span><span class='ee-v'>1</span></li><li><span class='ee-k'>5:</span><span class='ee-v'>0</span></li></ul></li><li><label class='ee-shut'>data_type: signed int32<input type='checkbox' class='ee-toggle'></label><ul><li><span class='ee-k'>type:</span><span class='ee-v'>PixelType</span></li><li><span class='ee-k'>max:</span><span class='ee-v'>2147483647</span></li><li><span class='ee-k'>min:</span><span class='ee-v'>-2147483648</span></li><li><span class='ee-k'>precision:</span><span class='ee-v'>int</span></li></ul></li><li><label class='ee-shut'>dimensions: [5, 3]<input type='checkbox' class='ee-toggle'></label><ul><li><span class='ee-k'>0:</span><span class='ee-v'>5</span></li><li><span class='ee-k'>1:</span><span class='ee-v'>3</span></li></ul></li><li><label class='ee-shut'>origin: [-125, 53]<input type='checkbox' class='ee-toggle'></label><ul><li><span class='ee-k'>0:</span><span class='ee-v'>-125</span></li><li><span class='ee-k'>1:</span><span class='ee-v'>53</span></li></ul></li></ul></li></ul></li></ul></li></ul></div><script>function toggleHeader() {\n",
       "    const parent = this.parentElement;\n",
       "    parent.className = parent.className === \"ee-open\" ? \"ee-shut\" : \"ee-open\";\n",
       "}\n",
       "\n",
       "for (let c of document.getElementsByClassName(\"ee-toggle\")) {\n",
       "    c.onclick = toggleHeader;\n",
       "}</script></div>"
      ],
      "text/plain": [
       "<ee.image.Image at 0x1f831a49fc0>"
      ]
     },
     "execution_count": 34,
     "metadata": {},
     "output_type": "execute_result"
    }
   ],
   "source": [
    "random_forest.classified"
   ]
  },
  {
   "cell_type": "code",
   "execution_count": 38,
   "metadata": {},
   "outputs": [
    {
     "data": {
      "text/plain": [
       "{'BOG': 'A52A2A',\n",
       " 'FEN': 'FFF600',\n",
       " 'MARSH': '8FBC8F',\n",
       " 'SWAMP': '008000',\n",
       " 'UPLAND': 'FF0001',\n",
       " 'WATER': '0000FF'}"
      ]
     },
     "execution_count": 38,
     "metadata": {},
     "output_type": "execute_result"
    }
   ],
   "source": [
    "\n",
    "labels = random_forest.samples.labels\n",
    "lc_obj = lc.LandCovers(labels=labels)\n",
    "lc_obj.colours"
   ]
  },
  {
   "cell_type": "code",
   "execution_count": 39,
   "metadata": {},
   "outputs": [
    {
     "data": {
      "application/vnd.jupyter.widget-view+json": {
       "model_id": "438c683633554594b97a2c58b6ecf547",
       "version_major": 2,
       "version_minor": 0
      },
      "text/plain": [
       "Map(center=[54.63038654400906, -122.11326989291922], controls=(WidgetControl(options=['position', 'transparent…"
      ]
     },
     "metadata": {},
     "output_type": "display_data"
    }
   ],
   "source": [
    "Map = geemap.Map()\n",
    "vis = {'palette': lc_obj.palette, 'min': 1, 'max': 6}\n",
    "\n",
    "Map.addLayer(random_forest.classified, vis, \"Classification\")\n",
    "\n",
    "Map.centerObject(table, 12)\n",
    "Map"
   ]
  },
  {
   "cell_type": "code",
   "execution_count": null,
   "metadata": {},
   "outputs": [],
   "source": []
  }
 ],
 "metadata": {
  "kernelspec": {
   "display_name": "cnwi-dev",
   "language": "python",
   "name": "python3"
  },
  "language_info": {
   "codemirror_mode": {
    "name": "ipython",
    "version": 3
   },
   "file_extension": ".py",
   "mimetype": "text/x-python",
   "name": "python",
   "nbconvert_exporter": "python",
   "pygments_lexer": "ipython3",
   "version": "3.10.9"
  },
  "orig_nbformat": 4,
  "vscode": {
   "interpreter": {
    "hash": "6cfb48d993408d2695d5b094722715ce5bb2fdb4104f37899be36a82b58e6431"
   }
  }
 },
 "nbformat": 4,
 "nbformat_minor": 2
}
