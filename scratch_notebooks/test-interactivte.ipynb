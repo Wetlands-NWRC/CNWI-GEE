{
 "cells": [
  {
   "cell_type": "code",
   "execution_count": null,
   "metadata": {},
   "outputs": [],
   "source": []
  }
 ],
 "metadata": {
  "kernelspec": {
   "display_name": "cnwi-dev",
   "language": "python",
   "name": "python3"
  },
  "language_info": {
   "name": "python",
   "version": "3.10.9"
  },
  "orig_nbformat": 4,
  "vscode": {
   "interpreter": {
    "hash": "6cfb48d993408d2695d5b094722715ce5bb2fdb4104f37899be36a82b58e6431"
   }
  }
 },
 "nbformat": 4,
 "nbformat_minor": 2
}
