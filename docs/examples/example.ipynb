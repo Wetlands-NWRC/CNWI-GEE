{
 "cells": [
  {
   "cell_type": "code",
   "execution_count": null,
   "metadata": {},
   "outputs": [],
   "source": [
    "from pprint import pprint\n",
    "import ee"
   ]
  },
  {
   "cell_type": "code",
   "execution_count": null,
   "metadata": {},
   "outputs": [],
   "source": [
    "# Define Earth Engine Constants\n",
    "aoi: ee.Geometry = ee.FeatureCollection(\"<ASSET-ID>\").geometry()\n",
    "eetable = ee.FeatureCollection(\"<ASSET-ID>\")\n"
   ]
  },
  {
   "attachments": {},
   "cell_type": "markdown",
   "metadata": {},
   "source": [
    "# Load the input Data Set"
   ]
  },
  {
   "cell_type": "code",
   "execution_count": null,
   "metadata": {},
   "outputs": [],
   "source": [
    "# Load in the nova scotia data set\n",
    "from cnwi import datasets\n",
    "\n",
    "ns_data_set = datasets.NovaScotia()\n",
    "pprint(ns_data_set.__dict__)"
   ]
  },
  {
   "attachments": {},
   "cell_type": "markdown",
   "metadata": {},
   "source": [
    "# Build Stack for Building of Samples"
   ]
  },
  {
   "cell_type": "code",
   "execution_count": null,
   "metadata": {},
   "outputs": [],
   "source": [
    "from cnwi import sar, datacube\n",
    "\n",
    "# Sentinel -1 \n",
    "s1_col = ee.ImageCollection(ns_data_set.sentienl1).filterBounds(aoi)\n",
    "sar_inpts = sar.build_s1_inputs(s1_col)\n",
    "alos_inpts = sar.build_alos_inpts(2019).clip(aoi)\n",
    "\n",
    "# Data Cube\n",
    "dc_col = ee.ImageCollection(ns_data_set.data_cube).filterBounds(aoi)\n",
    "dcpp = datacube.prep_data_cube(dc_col)\n",
    "dc_inpts = datacube.build_data_cube_inpts(dcpp)\n",
    "dc_inpts.bandNames()\n",
    "\n",
    "# Terrain Analysis\n",
    "elev_inpt = ee.ImageCollection(ns_data_set.terrain_analysis).filterBounds(aoi).mosaic()\n",
    "elev_inpt.bandNames()\n",
    "\n",
    "# create the stack\n",
    "stack = ee.Image.cat(sar_inpts, alos_inpts, dc_inpts, elev_inpt)"
   ]
  },
  {
   "attachments": {},
   "cell_type": "markdown",
   "metadata": {},
   "source": [
    "# Prep Training Data and Generate Samples"
   ]
  },
  {
   "cell_type": "code",
   "execution_count": null,
   "metadata": {},
   "outputs": [],
   "source": [
    "# Sample the stack\n",
    "from cnwi import trainingd as td\n",
    "\n",
    "preped = td.prep_training_data(col=eetable, class_property='land_cover')\n",
    "\n",
    "samples = td.generate_samples(col=preped, stack=stack)\n",
    "training, validation = td.partition_training(samples, 0.7)"
   ]
  },
  {
   "attachments": {},
   "cell_type": "markdown",
   "metadata": {},
   "source": [
    "# Build, Train and Classify"
   ]
  },
  {
   "cell_type": "code",
   "execution_count": null,
   "metadata": {},
   "outputs": [],
   "source": [
    "from cnwi import rf\n",
    "\n",
    "clf = rf.RandomForestModel(\n",
    "    numberOfTrees=1000\n",
    ")\n",
    "\n",
    "trained = clf.train(\n",
    "    training_data=training,\n",
    "    predictors=stack.bandNames(),\n",
    "    classProperty='value'\n",
    ")\n",
    "\n",
    "clf_img = stack.classify(trained)"
   ]
  },
  {
   "attachments": {},
   "cell_type": "markdown",
   "metadata": {},
   "source": [
    "# Accuracy Assessments"
   ]
  },
  {
   "cell_type": "code",
   "execution_count": null,
   "metadata": {},
   "outputs": [],
   "source": [
    "from cnwi import acas\n",
    "\n",
    "indpnt = acas.independent(\n",
    "    sample = validation,\n",
    "    model = trained,\n",
    "    class_property='value',\n",
    "    label='land_cover'\n",
    ")"
   ]
  },
  {
   "attachments": {},
   "cell_type": "markdown",
   "metadata": {},
   "source": [
    "# Export Metrics to Storage"
   ]
  },
  {
   "cell_type": "code",
   "execution_count": null,
   "metadata": {},
   "outputs": [],
   "source": [
    "# export metrics to cloud or drive\n",
    "task = ee.batch.Export.table.toDrive(\n",
    "    collection=indpnt,\n",
    "    description='NS-Example-Validation-2',\n",
    "    folder='NS-Example-Validation',\n",
    "    fileFormat='GeoJSON'\n",
    ").start()\n"
   ]
  },
  {
   "cell_type": "code",
   "execution_count": null,
   "metadata": {},
   "outputs": [],
   "source": [
    "# build metics csvs"
   ]
  }
 ],
 "metadata": {
  "language_info": {
   "name": "python"
  },
  "orig_nbformat": 4
 },
 "nbformat": 4,
 "nbformat_minor": 2
}
